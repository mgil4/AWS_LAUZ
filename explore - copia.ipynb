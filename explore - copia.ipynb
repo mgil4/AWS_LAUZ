{
 "cells": [
  {
   "cell_type": "code",
   "execution_count": 235,
   "metadata": {},
   "outputs": [],
   "source": [
    "import pandas as pd\n",
    "import numpy as np\n",
    "import matplotlib.pyplot as plt\n",
    "from sklearn.decomposition import PCA\n",
    "from sklearn.cluster import KMeans\n",
    "import seaborn as sns\n",
    "%matplotlib widget"
   ]
  },
  {
   "cell_type": "code",
   "execution_count": 236,
   "metadata": {},
   "outputs": [
    {
     "data": {
      "text/html": [
       "<div>\n",
       "<style scoped>\n",
       "    .dataframe tbody tr th:only-of-type {\n",
       "        vertical-align: middle;\n",
       "    }\n",
       "\n",
       "    .dataframe tbody tr th {\n",
       "        vertical-align: top;\n",
       "    }\n",
       "\n",
       "    .dataframe thead th {\n",
       "        text-align: right;\n",
       "    }\n",
       "</style>\n",
       "<table border=\"1\" class=\"dataframe\">\n",
       "  <thead>\n",
       "    <tr style=\"text-align: right;\">\n",
       "      <th></th>\n",
       "      <th>Product Name</th>\n",
       "      <th>Brand Name</th>\n",
       "      <th>Price</th>\n",
       "      <th>Rating</th>\n",
       "      <th>Reviews</th>\n",
       "      <th>Review Votes</th>\n",
       "    </tr>\n",
       "  </thead>\n",
       "  <tbody>\n",
       "    <tr>\n",
       "      <th>0</th>\n",
       "      <td>\"CLEAR CLEAN ESN\" Sprint EPIC 4G Galaxy SPH-D7...</td>\n",
       "      <td>Samsung</td>\n",
       "      <td>199.99</td>\n",
       "      <td>1</td>\n",
       "      <td>I'm really disappointed about my phone and ser...</td>\n",
       "      <td>1.0</td>\n",
       "    </tr>\n",
       "    <tr>\n",
       "      <th>1</th>\n",
       "      <td>\"CLEAR CLEAN ESN\" Sprint EPIC 4G Galaxy SPH-D7...</td>\n",
       "      <td>Samsung</td>\n",
       "      <td>199.99</td>\n",
       "      <td>5</td>\n",
       "      <td>I was able to get the phone I previously owned...</td>\n",
       "      <td>6.0</td>\n",
       "    </tr>\n",
       "    <tr>\n",
       "      <th>2</th>\n",
       "      <td>\"CLEAR CLEAN ESN\" Sprint EPIC 4G Galaxy SPH-D7...</td>\n",
       "      <td>Samsung</td>\n",
       "      <td>199.99</td>\n",
       "      <td>4</td>\n",
       "      <td>I love the phone. It does everything I need an...</td>\n",
       "      <td>1.0</td>\n",
       "    </tr>\n",
       "    <tr>\n",
       "      <th>3</th>\n",
       "      <td>\"Nokia Asha 302 Unlocked GSM Phone with 3.2MP ...</td>\n",
       "      <td>Nokia</td>\n",
       "      <td>299.00</td>\n",
       "      <td>5</td>\n",
       "      <td>Bought this as an alternative to a smart phone...</td>\n",
       "      <td>1.0</td>\n",
       "    </tr>\n",
       "    <tr>\n",
       "      <th>4</th>\n",
       "      <td>\"Nokia Asha 302 Unlocked GSM Phone with 3.2MP ...</td>\n",
       "      <td>Nokia</td>\n",
       "      <td>299.00</td>\n",
       "      <td>5</td>\n",
       "      <td>Used this unlocked GSM Nokia Asha 302 in the P...</td>\n",
       "      <td>1.0</td>\n",
       "    </tr>\n",
       "    <tr>\n",
       "      <th>...</th>\n",
       "      <td>...</td>\n",
       "      <td>...</td>\n",
       "      <td>...</td>\n",
       "      <td>...</td>\n",
       "      <td>...</td>\n",
       "      <td>...</td>\n",
       "    </tr>\n",
       "    <tr>\n",
       "      <th>59317</th>\n",
       "      <td>Samsung Convoy U640 Phone for Verizon Wireless...</td>\n",
       "      <td>Samsung</td>\n",
       "      <td>79.95</td>\n",
       "      <td>5</td>\n",
       "      <td>Really like the phone and ease of use. The scr...</td>\n",
       "      <td>12.0</td>\n",
       "    </tr>\n",
       "    <tr>\n",
       "      <th>59318</th>\n",
       "      <td>Samsung Convoy U640 Phone for Verizon Wireless...</td>\n",
       "      <td>Samsung</td>\n",
       "      <td>79.95</td>\n",
       "      <td>5</td>\n",
       "      <td>Much better than I expected. This phone has ev...</td>\n",
       "      <td>2.0</td>\n",
       "    </tr>\n",
       "    <tr>\n",
       "      <th>59319</th>\n",
       "      <td>Samsung Convoy U640 Phone for Verizon Wireless...</td>\n",
       "      <td>Samsung</td>\n",
       "      <td>79.95</td>\n",
       "      <td>2</td>\n",
       "      <td>This phone started out working beautifully for...</td>\n",
       "      <td>NaN</td>\n",
       "    </tr>\n",
       "    <tr>\n",
       "      <th>59320</th>\n",
       "      <td>Samsung Convoy U640 Phone for Verizon Wireless...</td>\n",
       "      <td>Samsung</td>\n",
       "      <td>79.95</td>\n",
       "      <td>3</td>\n",
       "      <td>I like flip phones, they are easily to use.I h...</td>\n",
       "      <td>2.0</td>\n",
       "    </tr>\n",
       "    <tr>\n",
       "      <th>59321</th>\n",
       "      <td>Samsung Convoy U640 Phone for Verizon Wireless...</td>\n",
       "      <td>Samsung</td>\n",
       "      <td>79.95</td>\n",
       "      <td>1</td>\n",
       "      <td>I purchased this phone on 6/13/2013. Upon rece...</td>\n",
       "      <td>NaN</td>\n",
       "    </tr>\n",
       "  </tbody>\n",
       "</table>\n",
       "<p>59322 rows × 6 columns</p>\n",
       "</div>"
      ],
      "text/plain": [
       "                                            Product Name Brand Name   Price  \\\n",
       "0      \"CLEAR CLEAN ESN\" Sprint EPIC 4G Galaxy SPH-D7...    Samsung  199.99   \n",
       "1      \"CLEAR CLEAN ESN\" Sprint EPIC 4G Galaxy SPH-D7...    Samsung  199.99   \n",
       "2      \"CLEAR CLEAN ESN\" Sprint EPIC 4G Galaxy SPH-D7...    Samsung  199.99   \n",
       "3      \"Nokia Asha 302 Unlocked GSM Phone with 3.2MP ...      Nokia  299.00   \n",
       "4      \"Nokia Asha 302 Unlocked GSM Phone with 3.2MP ...      Nokia  299.00   \n",
       "...                                                  ...        ...     ...   \n",
       "59317  Samsung Convoy U640 Phone for Verizon Wireless...    Samsung   79.95   \n",
       "59318  Samsung Convoy U640 Phone for Verizon Wireless...    Samsung   79.95   \n",
       "59319  Samsung Convoy U640 Phone for Verizon Wireless...    Samsung   79.95   \n",
       "59320  Samsung Convoy U640 Phone for Verizon Wireless...    Samsung   79.95   \n",
       "59321  Samsung Convoy U640 Phone for Verizon Wireless...    Samsung   79.95   \n",
       "\n",
       "       Rating                                            Reviews  Review Votes  \n",
       "0           1  I'm really disappointed about my phone and ser...           1.0  \n",
       "1           5  I was able to get the phone I previously owned...           6.0  \n",
       "2           4  I love the phone. It does everything I need an...           1.0  \n",
       "3           5  Bought this as an alternative to a smart phone...           1.0  \n",
       "4           5  Used this unlocked GSM Nokia Asha 302 in the P...           1.0  \n",
       "...       ...                                                ...           ...  \n",
       "59317       5  Really like the phone and ease of use. The scr...          12.0  \n",
       "59318       5  Much better than I expected. This phone has ev...           2.0  \n",
       "59319       2  This phone started out working beautifully for...           NaN  \n",
       "59320       3  I like flip phones, they are easily to use.I h...           2.0  \n",
       "59321       1  I purchased this phone on 6/13/2013. Upon rece...           NaN  \n",
       "\n",
       "[59322 rows x 6 columns]"
      ]
     },
     "execution_count": 236,
     "metadata": {},
     "output_type": "execute_result"
    }
   ],
   "source": [
    "df = pd.read_csv(\"filtered_df.csv\")\n",
    "df"
   ]
  },
  {
   "cell_type": "code",
   "execution_count": 247,
   "metadata": {},
   "outputs": [],
   "source": [
    "from transformers import AutoTokenizer, AutoModel\n",
    "import torch\n",
    "\n",
    "def get_sentence_embedding(sentence, model, tokenizer):\n",
    "    # Tokenize input sentence\n",
    "    tokens = tokenizer(sentence, return_tensors=\"pt\", truncation=True, max_length=512)\n",
    "\n",
    "    # Get the transformer model output\n",
    "    with torch.no_grad():\n",
    "        outputs = model(**tokens)\n",
    "\n",
    "    # Extract the output embeddings (CLS token)\n",
    "    embeddings = outputs.last_hidden_state[:, 0, :]\n",
    "\n",
    "    return embeddings.numpy()\n",
    "\n",
    "# Load pre-trained model and tokenizer\n",
    "model_name = \"distilbert-base-uncased\"\n",
    "tokenizer = AutoTokenizer.from_pretrained(model_name)\n",
    "model = AutoModel.from_pretrained(model_name)\n",
    "\n",
    "# Example sentence\n",
    "example_sentence = \"This mobile phone was very good\"\n",
    "\n",
    "# Get sentence embedding\n",
    "sentence_embedding = get_sentence_embedding(example_sentence, model, tokenizer)\n",
    "\n",
    "# Convert to numpy array for easier handling\n",
    "sentence_embedding_np = sentence_embedding\n"
   ]
  },
  {
   "cell_type": "code",
   "execution_count": 248,
   "metadata": {},
   "outputs": [
    {
     "name": "stderr",
     "output_type": "stream",
     "text": [
      "C:\\Users\\Lola Monroy Mir\\AppData\\Local\\Temp\\ipykernel_24140\\621941104.py:3: SettingWithCopyWarning:\n",
      "\n",
      "\n",
      "A value is trying to be set on a copy of a slice from a DataFrame.\n",
      "Try using .loc[row_indexer,col_indexer] = value instead\n",
      "\n",
      "See the caveats in the documentation: https://pandas.pydata.org/pandas-docs/stable/user_guide/indexing.html#returning-a-view-versus-a-copy\n",
      "\n"
     ]
    },
    {
     "data": {
      "text/html": [
       "<div>\n",
       "<style scoped>\n",
       "    .dataframe tbody tr th:only-of-type {\n",
       "        vertical-align: middle;\n",
       "    }\n",
       "\n",
       "    .dataframe tbody tr th {\n",
       "        vertical-align: top;\n",
       "    }\n",
       "\n",
       "    .dataframe thead th {\n",
       "        text-align: right;\n",
       "    }\n",
       "</style>\n",
       "<table border=\"1\" class=\"dataframe\">\n",
       "  <thead>\n",
       "    <tr style=\"text-align: right;\">\n",
       "      <th></th>\n",
       "      <th>Product Name</th>\n",
       "      <th>Brand Name</th>\n",
       "      <th>Price</th>\n",
       "      <th>Rating</th>\n",
       "      <th>Reviews</th>\n",
       "      <th>Review Votes</th>\n",
       "      <th>embedding</th>\n",
       "    </tr>\n",
       "  </thead>\n",
       "  <tbody>\n",
       "    <tr>\n",
       "      <th>13464</th>\n",
       "      <td>BLU Life 8 XL Smartphone - Unlocked - US GSM -...</td>\n",
       "      <td>BLU</td>\n",
       "      <td>101.91</td>\n",
       "      <td>3</td>\n",
       "      <td>Worth what I paid for it but freezes up and ha...</td>\n",
       "      <td>1.0</td>\n",
       "      <td>[[-0.060920257, -0.15815975, 0.2369216, -0.050...</td>\n",
       "    </tr>\n",
       "    <tr>\n",
       "      <th>13465</th>\n",
       "      <td>BLU Life 8 XL Smartphone - Unlocked - US GSM -...</td>\n",
       "      <td>BLU</td>\n",
       "      <td>101.91</td>\n",
       "      <td>1</td>\n",
       "      <td>Really disappointed. Two weeks use and the spe...</td>\n",
       "      <td>1.0</td>\n",
       "      <td>[[0.048616894, 0.0016777646, 0.1554654, -0.077...</td>\n",
       "    </tr>\n",
       "    <tr>\n",
       "      <th>13466</th>\n",
       "      <td>BLU Life 8 XL Smartphone - Unlocked - US GSM -...</td>\n",
       "      <td>BLU</td>\n",
       "      <td>101.91</td>\n",
       "      <td>5</td>\n",
       "      <td>Great phone for the price. No issues and funct...</td>\n",
       "      <td>3.0</td>\n",
       "      <td>[[-0.050249405, -0.18043527, 0.22449337, -0.02...</td>\n",
       "    </tr>\n",
       "    <tr>\n",
       "      <th>13467</th>\n",
       "      <td>BLU Life 8 XL Smartphone - Unlocked - US GSM -...</td>\n",
       "      <td>BLU</td>\n",
       "      <td>101.91</td>\n",
       "      <td>5</td>\n",
       "      <td>I've had this phone for a week now, and wanted...</td>\n",
       "      <td>1.0</td>\n",
       "      <td>[[-0.17647265, -0.1010026, 0.14397466, -0.1855...</td>\n",
       "    </tr>\n",
       "    <tr>\n",
       "      <th>13468</th>\n",
       "      <td>BLU Life 8 XL Smartphone - Unlocked - US GSM -...</td>\n",
       "      <td>BLU</td>\n",
       "      <td>101.91</td>\n",
       "      <td>4</td>\n",
       "      <td>I've had this for two weeks now and I'm pretty...</td>\n",
       "      <td>1.0</td>\n",
       "      <td>[[-0.12717667, -0.00946337, 0.073418185, -0.29...</td>\n",
       "    </tr>\n",
       "    <tr>\n",
       "      <th>...</th>\n",
       "      <td>...</td>\n",
       "      <td>...</td>\n",
       "      <td>...</td>\n",
       "      <td>...</td>\n",
       "      <td>...</td>\n",
       "      <td>...</td>\n",
       "      <td>...</td>\n",
       "    </tr>\n",
       "    <tr>\n",
       "      <th>13567</th>\n",
       "      <td>BLU Life 8 XL Smartphone - Unlocked - US GSM -...</td>\n",
       "      <td>BLU</td>\n",
       "      <td>101.91</td>\n",
       "      <td>4</td>\n",
       "      <td>Blu Life 8 XL US GSMPros:Price $79 on Pre Orde...</td>\n",
       "      <td>NaN</td>\n",
       "      <td>[[-0.031581588, -0.12049657, 0.25889283, -0.11...</td>\n",
       "    </tr>\n",
       "    <tr>\n",
       "      <th>13568</th>\n",
       "      <td>BLU Life 8 XL Smartphone - Unlocked - US GSM -...</td>\n",
       "      <td>BLU</td>\n",
       "      <td>101.91</td>\n",
       "      <td>4</td>\n",
       "      <td>Speaking as a customer who's sole interest in ...</td>\n",
       "      <td>2.0</td>\n",
       "      <td>[[-0.06787015, -0.087844536, 0.08985419, -0.16...</td>\n",
       "    </tr>\n",
       "    <tr>\n",
       "      <th>13569</th>\n",
       "      <td>BLU Life 8 XL Smartphone - Unlocked - US GSM -...</td>\n",
       "      <td>BLU</td>\n",
       "      <td>101.91</td>\n",
       "      <td>2</td>\n",
       "      <td>We were promised Android 5.0 Lollipop on this ...</td>\n",
       "      <td>4.0</td>\n",
       "      <td>[[0.036945507, -0.1584142, 0.2621258, -0.16874...</td>\n",
       "    </tr>\n",
       "    <tr>\n",
       "      <th>13570</th>\n",
       "      <td>BLU Life 8 XL Smartphone - Unlocked - US GSM -...</td>\n",
       "      <td>BLU</td>\n",
       "      <td>101.91</td>\n",
       "      <td>3</td>\n",
       "      <td>The phone is good value for the price. Though ...</td>\n",
       "      <td>2.0</td>\n",
       "      <td>[[0.05714097, -0.2500077, 0.32341874, -0.02356...</td>\n",
       "    </tr>\n",
       "    <tr>\n",
       "      <th>13571</th>\n",
       "      <td>BLU Life 8 XL Smartphone - Unlocked - US GSM -...</td>\n",
       "      <td>BLU</td>\n",
       "      <td>101.91</td>\n",
       "      <td>4</td>\n",
       "      <td>Very good for the money though the screen is i...</td>\n",
       "      <td>NaN</td>\n",
       "      <td>[[-0.041789737, -0.11509461, 0.16008312, -0.11...</td>\n",
       "    </tr>\n",
       "  </tbody>\n",
       "</table>\n",
       "<p>108 rows × 7 columns</p>\n",
       "</div>"
      ],
      "text/plain": [
       "                                            Product Name Brand Name   Price  \\\n",
       "13464  BLU Life 8 XL Smartphone - Unlocked - US GSM -...        BLU  101.91   \n",
       "13465  BLU Life 8 XL Smartphone - Unlocked - US GSM -...        BLU  101.91   \n",
       "13466  BLU Life 8 XL Smartphone - Unlocked - US GSM -...        BLU  101.91   \n",
       "13467  BLU Life 8 XL Smartphone - Unlocked - US GSM -...        BLU  101.91   \n",
       "13468  BLU Life 8 XL Smartphone - Unlocked - US GSM -...        BLU  101.91   \n",
       "...                                                  ...        ...     ...   \n",
       "13567  BLU Life 8 XL Smartphone - Unlocked - US GSM -...        BLU  101.91   \n",
       "13568  BLU Life 8 XL Smartphone - Unlocked - US GSM -...        BLU  101.91   \n",
       "13569  BLU Life 8 XL Smartphone - Unlocked - US GSM -...        BLU  101.91   \n",
       "13570  BLU Life 8 XL Smartphone - Unlocked - US GSM -...        BLU  101.91   \n",
       "13571  BLU Life 8 XL Smartphone - Unlocked - US GSM -...        BLU  101.91   \n",
       "\n",
       "       Rating                                            Reviews  \\\n",
       "13464       3  Worth what I paid for it but freezes up and ha...   \n",
       "13465       1  Really disappointed. Two weeks use and the spe...   \n",
       "13466       5  Great phone for the price. No issues and funct...   \n",
       "13467       5  I've had this phone for a week now, and wanted...   \n",
       "13468       4  I've had this for two weeks now and I'm pretty...   \n",
       "...       ...                                                ...   \n",
       "13567       4  Blu Life 8 XL US GSMPros:Price $79 on Pre Orde...   \n",
       "13568       4  Speaking as a customer who's sole interest in ...   \n",
       "13569       2  We were promised Android 5.0 Lollipop on this ...   \n",
       "13570       3  The phone is good value for the price. Though ...   \n",
       "13571       4  Very good for the money though the screen is i...   \n",
       "\n",
       "       Review Votes                                          embedding  \n",
       "13464           1.0  [[-0.060920257, -0.15815975, 0.2369216, -0.050...  \n",
       "13465           1.0  [[0.048616894, 0.0016777646, 0.1554654, -0.077...  \n",
       "13466           3.0  [[-0.050249405, -0.18043527, 0.22449337, -0.02...  \n",
       "13467           1.0  [[-0.17647265, -0.1010026, 0.14397466, -0.1855...  \n",
       "13468           1.0  [[-0.12717667, -0.00946337, 0.073418185, -0.29...  \n",
       "...             ...                                                ...  \n",
       "13567           NaN  [[-0.031581588, -0.12049657, 0.25889283, -0.11...  \n",
       "13568           2.0  [[-0.06787015, -0.087844536, 0.08985419, -0.16...  \n",
       "13569           4.0  [[0.036945507, -0.1584142, 0.2621258, -0.16874...  \n",
       "13570           2.0  [[0.05714097, -0.2500077, 0.32341874, -0.02356...  \n",
       "13571           NaN  [[-0.041789737, -0.11509461, 0.16008312, -0.11...  \n",
       "\n",
       "[108 rows x 7 columns]"
      ]
     },
     "execution_count": 248,
     "metadata": {},
     "output_type": "execute_result"
    }
   ],
   "source": [
    "counts = df[\"Product Name\"].value_counts().reset_index()\n",
    "subset = df[df[\"Product Name\"] == counts.iloc[70][\"Product Name\"]]\n",
    "subset[\"embedding\"] = subset[\"Reviews\"].apply(get_sentence_embedding, args = (model, tokenizer))\n",
    "subset"
   ]
  },
  {
   "cell_type": "code",
   "execution_count": 249,
   "metadata": {},
   "outputs": [
    {
     "name": "stderr",
     "output_type": "stream",
     "text": [
      "C:\\Users\\Lola Monroy Mir\\AppData\\Local\\Packages\\PythonSoftwareFoundation.Python.3.10_qbz5n2kfra8p0\\LocalCache\\local-packages\\Python310\\site-packages\\sklearn\\cluster\\_kmeans.py:1416: FutureWarning:\n",
      "\n",
      "The default value of `n_init` will change from 10 to 'auto' in 1.4. Set the value of `n_init` explicitly to suppress the warning\n",
      "\n",
      "C:\\Users\\Lola Monroy Mir\\AppData\\Local\\Temp\\ipykernel_24140\\2820431430.py:6: SettingWithCopyWarning:\n",
      "\n",
      "\n",
      "A value is trying to be set on a copy of a slice from a DataFrame.\n",
      "Try using .loc[row_indexer,col_indexer] = value instead\n",
      "\n",
      "See the caveats in the documentation: https://pandas.pydata.org/pandas-docs/stable/user_guide/indexing.html#returning-a-view-versus-a-copy\n",
      "\n"
     ]
    }
   ],
   "source": [
    "\n",
    "pca = PCA(n_components=3)\n",
    "embed = np.vstack(subset[\"embedding\"].to_numpy())\n",
    "project = pca.fit_transform(embed)\n",
    "kmeans = KMeans(n_clusters=3)\n",
    "clusters = kmeans.fit_predict(embed)\n",
    "subset[\"cluster\"] = clusters"
   ]
  },
  {
   "cell_type": "code",
   "execution_count": 250,
   "metadata": {},
   "outputs": [
    {
     "data": {
      "text/plain": [
       "<mpl_toolkits.mplot3d.art3d.Path3DCollection at 0x1e5a3a83d90>"
      ]
     },
     "execution_count": 250,
     "metadata": {},
     "output_type": "execute_result"
    },
    {
     "data": {
      "application/vnd.jupyter.widget-view+json": {
       "model_id": "fca134bb74744c9d98ad486464a4fc30",
       "version_major": 2,
       "version_minor": 0
      },
      "image/png": "[encoded data removed]",
      "text/html": [
       "\n",
       "            <div style=\"display: inline-block;\">\n",
       "                <div class=\"jupyter-widgets widget-label\" style=\"text-align: center;\">\n",
       "                    Figure\n",
       "                </div>\n",
       "                <img src='data:image/png;base64,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' width=1000.0/>\n",
       "            </div>\n",
       "        "
      ],
      "text/plain": [
       "Canvas(toolbar=Toolbar(toolitems=[('Home', 'Reset original view', 'home', 'home'), ('Back', 'Back to previous …"
      ]
     },
     "metadata": {},
     "output_type": "display_data"
    }
   ],
   "source": [
    "fig = plt.figure(figsize = (10, 7))\n",
    "ax = plt.axes(projection =\"3d\")\n",
    "ax.set_xlabel('X Axis')\n",
    "ax.set_ylabel('Y Axis')\n",
    "ax.set_zlabel('Z Axis')\n",
    "ax.scatter3D(project[:,0], project[:,1], project[:,2], c=clusters)\n"
   ]
  },
  {
   "cell_type": "code",
   "execution_count": 251,
   "metadata": {},
   "outputs": [
    {
     "data": {
      "text/html": [
       "<div>\n",
       "<style scoped>\n",
       "    .dataframe tbody tr th:only-of-type {\n",
       "        vertical-align: middle;\n",
       "    }\n",
       "\n",
       "    .dataframe tbody tr th {\n",
       "        vertical-align: top;\n",
       "    }\n",
       "\n",
       "    .dataframe thead th {\n",
       "        text-align: right;\n",
       "    }\n",
       "</style>\n",
       "<table border=\"1\" class=\"dataframe\">\n",
       "  <thead>\n",
       "    <tr style=\"text-align: right;\">\n",
       "      <th></th>\n",
       "      <th>Product Name</th>\n",
       "      <th>Brand Name</th>\n",
       "      <th>Price</th>\n",
       "      <th>Rating</th>\n",
       "      <th>Reviews</th>\n",
       "      <th>Review Votes</th>\n",
       "      <th>embedding</th>\n",
       "      <th>cluster</th>\n",
       "    </tr>\n",
       "  </thead>\n",
       "  <tbody>\n",
       "    <tr>\n",
       "      <th>13464</th>\n",
       "      <td>BLU Life 8 XL Smartphone - Unlocked - US GSM -...</td>\n",
       "      <td>BLU</td>\n",
       "      <td>101.91</td>\n",
       "      <td>3</td>\n",
       "      <td>Worth what I paid for it but freezes up and ha...</td>\n",
       "      <td>1.0</td>\n",
       "      <td>[[-0.060920257, -0.15815975, 0.2369216, -0.050...</td>\n",
       "      <td>1</td>\n",
       "    </tr>\n",
       "    <tr>\n",
       "      <th>13465</th>\n",
       "      <td>BLU Life 8 XL Smartphone - Unlocked - US GSM -...</td>\n",
       "      <td>BLU</td>\n",
       "      <td>101.91</td>\n",
       "      <td>1</td>\n",
       "      <td>Really disappointed. Two weeks use and the spe...</td>\n",
       "      <td>1.0</td>\n",
       "      <td>[[0.048616894, 0.0016777646, 0.1554654, -0.077...</td>\n",
       "      <td>0</td>\n",
       "    </tr>\n",
       "    <tr>\n",
       "      <th>13466</th>\n",
       "      <td>BLU Life 8 XL Smartphone - Unlocked - US GSM -...</td>\n",
       "      <td>BLU</td>\n",
       "      <td>101.91</td>\n",
       "      <td>5</td>\n",
       "      <td>Great phone for the price. No issues and funct...</td>\n",
       "      <td>3.0</td>\n",
       "      <td>[[-0.050249405, -0.18043527, 0.22449337, -0.02...</td>\n",
       "      <td>0</td>\n",
       "    </tr>\n",
       "    <tr>\n",
       "      <th>13467</th>\n",
       "      <td>BLU Life 8 XL Smartphone - Unlocked - US GSM -...</td>\n",
       "      <td>BLU</td>\n",
       "      <td>101.91</td>\n",
       "      <td>5</td>\n",
       "      <td>I've had this phone for a week now, and wanted...</td>\n",
       "      <td>1.0</td>\n",
       "      <td>[[-0.17647265, -0.1010026, 0.14397466, -0.1855...</td>\n",
       "      <td>1</td>\n",
       "    </tr>\n",
       "    <tr>\n",
       "      <th>13468</th>\n",
       "      <td>BLU Life 8 XL Smartphone - Unlocked - US GSM -...</td>\n",
       "      <td>BLU</td>\n",
       "      <td>101.91</td>\n",
       "      <td>4</td>\n",
       "      <td>I've had this for two weeks now and I'm pretty...</td>\n",
       "      <td>1.0</td>\n",
       "      <td>[[-0.12717667, -0.00946337, 0.073418185, -0.29...</td>\n",
       "      <td>1</td>\n",
       "    </tr>\n",
       "    <tr>\n",
       "      <th>...</th>\n",
       "      <td>...</td>\n",
       "      <td>...</td>\n",
       "      <td>...</td>\n",
       "      <td>...</td>\n",
       "      <td>...</td>\n",
       "      <td>...</td>\n",
       "      <td>...</td>\n",
       "      <td>...</td>\n",
       "    </tr>\n",
       "    <tr>\n",
       "      <th>13567</th>\n",
       "      <td>BLU Life 8 XL Smartphone - Unlocked - US GSM -...</td>\n",
       "      <td>BLU</td>\n",
       "      <td>101.91</td>\n",
       "      <td>4</td>\n",
       "      <td>Blu Life 8 XL US GSMPros:Price $79 on Pre Orde...</td>\n",
       "      <td>NaN</td>\n",
       "      <td>[[-0.031581588, -0.12049657, 0.25889283, -0.11...</td>\n",
       "      <td>0</td>\n",
       "    </tr>\n",
       "    <tr>\n",
       "      <th>13568</th>\n",
       "      <td>BLU Life 8 XL Smartphone - Unlocked - US GSM -...</td>\n",
       "      <td>BLU</td>\n",
       "      <td>101.91</td>\n",
       "      <td>4</td>\n",
       "      <td>Speaking as a customer who's sole interest in ...</td>\n",
       "      <td>2.0</td>\n",
       "      <td>[[-0.06787015, -0.087844536, 0.08985419, -0.16...</td>\n",
       "      <td>1</td>\n",
       "    </tr>\n",
       "    <tr>\n",
       "      <th>13569</th>\n",
       "      <td>BLU Life 8 XL Smartphone - Unlocked - US GSM -...</td>\n",
       "      <td>BLU</td>\n",
       "      <td>101.91</td>\n",
       "      <td>2</td>\n",
       "      <td>We were promised Android 5.0 Lollipop on this ...</td>\n",
       "      <td>4.0</td>\n",
       "      <td>[[0.036945507, -0.1584142, 0.2621258, -0.16874...</td>\n",
       "      <td>2</td>\n",
       "    </tr>\n",
       "    <tr>\n",
       "      <th>13570</th>\n",
       "      <td>BLU Life 8 XL Smartphone - Unlocked - US GSM -...</td>\n",
       "      <td>BLU</td>\n",
       "      <td>101.91</td>\n",
       "      <td>3</td>\n",
       "      <td>The phone is good value for the price. Though ...</td>\n",
       "      <td>2.0</td>\n",
       "      <td>[[0.05714097, -0.2500077, 0.32341874, -0.02356...</td>\n",
       "      <td>2</td>\n",
       "    </tr>\n",
       "    <tr>\n",
       "      <th>13571</th>\n",
       "      <td>BLU Life 8 XL Smartphone - Unlocked - US GSM -...</td>\n",
       "      <td>BLU</td>\n",
       "      <td>101.91</td>\n",
       "      <td>4</td>\n",
       "      <td>Very good for the money though the screen is i...</td>\n",
       "      <td>NaN</td>\n",
       "      <td>[[-0.041789737, -0.11509461, 0.16008312, -0.11...</td>\n",
       "      <td>1</td>\n",
       "    </tr>\n",
       "  </tbody>\n",
       "</table>\n",
       "<p>108 rows × 8 columns</p>\n",
       "</div>"
      ],
      "text/plain": [
       "                                            Product Name Brand Name   Price  \\\n",
       "13464  BLU Life 8 XL Smartphone - Unlocked - US GSM -...        BLU  101.91   \n",
       "13465  BLU Life 8 XL Smartphone - Unlocked - US GSM -...        BLU  101.91   \n",
       "13466  BLU Life 8 XL Smartphone - Unlocked - US GSM -...        BLU  101.91   \n",
       "13467  BLU Life 8 XL Smartphone - Unlocked - US GSM -...        BLU  101.91   \n",
       "13468  BLU Life 8 XL Smartphone - Unlocked - US GSM -...        BLU  101.91   \n",
       "...                                                  ...        ...     ...   \n",
       "13567  BLU Life 8 XL Smartphone - Unlocked - US GSM -...        BLU  101.91   \n",
       "13568  BLU Life 8 XL Smartphone - Unlocked - US GSM -...        BLU  101.91   \n",
       "13569  BLU Life 8 XL Smartphone - Unlocked - US GSM -...        BLU  101.91   \n",
       "13570  BLU Life 8 XL Smartphone - Unlocked - US GSM -...        BLU  101.91   \n",
       "13571  BLU Life 8 XL Smartphone - Unlocked - US GSM -...        BLU  101.91   \n",
       "\n",
       "       Rating                                            Reviews  \\\n",
       "13464       3  Worth what I paid for it but freezes up and ha...   \n",
       "13465       1  Really disappointed. Two weeks use and the spe...   \n",
       "13466       5  Great phone for the price. No issues and funct...   \n",
       "13467       5  I've had this phone for a week now, and wanted...   \n",
       "13468       4  I've had this for two weeks now and I'm pretty...   \n",
       "...       ...                                                ...   \n",
       "13567       4  Blu Life 8 XL US GSMPros:Price $79 on Pre Orde...   \n",
       "13568       4  Speaking as a customer who's sole interest in ...   \n",
       "13569       2  We were promised Android 5.0 Lollipop on this ...   \n",
       "13570       3  The phone is good value for the price. Though ...   \n",
       "13571       4  Very good for the money though the screen is i...   \n",
       "\n",
       "       Review Votes                                          embedding  \\\n",
       "13464           1.0  [[-0.060920257, -0.15815975, 0.2369216, -0.050...   \n",
       "13465           1.0  [[0.048616894, 0.0016777646, 0.1554654, -0.077...   \n",
       "13466           3.0  [[-0.050249405, -0.18043527, 0.22449337, -0.02...   \n",
       "13467           1.0  [[-0.17647265, -0.1010026, 0.14397466, -0.1855...   \n",
       "13468           1.0  [[-0.12717667, -0.00946337, 0.073418185, -0.29...   \n",
       "...             ...                                                ...   \n",
       "13567           NaN  [[-0.031581588, -0.12049657, 0.25889283, -0.11...   \n",
       "13568           2.0  [[-0.06787015, -0.087844536, 0.08985419, -0.16...   \n",
       "13569           4.0  [[0.036945507, -0.1584142, 0.2621258, -0.16874...   \n",
       "13570           2.0  [[0.05714097, -0.2500077, 0.32341874, -0.02356...   \n",
       "13571           NaN  [[-0.041789737, -0.11509461, 0.16008312, -0.11...   \n",
       "\n",
       "       cluster  \n",
       "13464        1  \n",
       "13465        0  \n",
       "13466        0  \n",
       "13467        1  \n",
       "13468        1  \n",
       "...        ...  \n",
       "13567        0  \n",
       "13568        1  \n",
       "13569        2  \n",
       "13570        2  \n",
       "13571        1  \n",
       "\n",
       "[108 rows x 8 columns]"
      ]
     },
     "execution_count": 251,
     "metadata": {},
     "output_type": "execute_result"
    }
   ],
   "source": [
    "subset"
   ]
  },
  {
   "cell_type": "code",
   "execution_count": 242,
   "metadata": {},
   "outputs": [
    {
     "ename": "KeyError",
     "evalue": "'preprocessed'",
     "output_type": "error",
     "traceback": [
      "\u001b[1;31m---------------------------------------------------------------------------\u001b[0m",
      "\u001b[1;31mKeyError\u001b[0m                                  Traceback (most recent call last)",
      "File \u001b[1;32m~\\AppData\\Local\\Packages\\PythonSoftwareFoundation.Python.3.10_qbz5n2kfra8p0\\LocalCache\\local-packages\\Python310\\site-packages\\pandas\\core\\indexes\\base.py:3790\u001b[0m, in \u001b[0;36mIndex.get_loc\u001b[1;34m(self, key)\u001b[0m\n\u001b[0;32m   3789\u001b[0m \u001b[39mtry\u001b[39;00m:\n\u001b[1;32m-> 3790\u001b[0m     \u001b[39mreturn\u001b[39;00m \u001b[39mself\u001b[39;49m\u001b[39m.\u001b[39;49m_engine\u001b[39m.\u001b[39;49mget_loc(casted_key)\n\u001b[0;32m   3791\u001b[0m \u001b[39mexcept\u001b[39;00m \u001b[39mKeyError\u001b[39;00m \u001b[39mas\u001b[39;00m err:\n",
      "File \u001b[1;32mindex.pyx:152\u001b[0m, in \u001b[0;36mpandas._libs.index.IndexEngine.get_loc\u001b[1;34m()\u001b[0m\n",
      "File \u001b[1;32mindex.pyx:181\u001b[0m, in \u001b[0;36mpandas._libs.index.IndexEngine.get_loc\u001b[1;34m()\u001b[0m\n",
      "File \u001b[1;32mpandas\\_libs\\hashtable_class_helper.pxi:7080\u001b[0m, in \u001b[0;36mpandas._libs.hashtable.PyObjectHashTable.get_item\u001b[1;34m()\u001b[0m\n",
      "File \u001b[1;32mpandas\\_libs\\hashtable_class_helper.pxi:7088\u001b[0m, in \u001b[0;36mpandas._libs.hashtable.PyObjectHashTable.get_item\u001b[1;34m()\u001b[0m\n",
      "\u001b[1;31mKeyError\u001b[0m: 'preprocessed'",
      "\nThe above exception was the direct cause of the following exception:\n",
      "\u001b[1;31mKeyError\u001b[0m                                  Traceback (most recent call last)",
      "\u001b[1;32mc:\\Users\\Lola Monroy Mir\\OneDrive\\Escritorio\\AWS_LAUZ\\explore.ipynb Cell 8\u001b[0m line \u001b[0;36m6\n\u001b[0;32m      <a href='vscode-notebook-cell:/c%3A/Users/Lola%20Monroy%20Mir/OneDrive/Escritorio/AWS_LAUZ/explore.ipynb#X40sZmlsZQ%3D%3D?line=3'>4</a>\u001b[0m rating_words[i][\u001b[39m'\u001b[39m\u001b[39mtotal\u001b[39m\u001b[39m'\u001b[39m] \u001b[39m=\u001b[39m \u001b[39mround\u001b[39m(subset_cluster[\u001b[39m\"\u001b[39m\u001b[39mRating\u001b[39m\u001b[39m\"\u001b[39m]\u001b[39m.\u001b[39mmean(), \u001b[39m2\u001b[39m)\n\u001b[0;32m      <a href='vscode-notebook-cell:/c%3A/Users/Lola%20Monroy%20Mir/OneDrive/Escritorio/AWS_LAUZ/explore.ipynb#X40sZmlsZQ%3D%3D?line=4'>5</a>\u001b[0m \u001b[39mfor\u001b[39;00m word \u001b[39min\u001b[39;00m terms_group_more[i][\u001b[39m0\u001b[39m:\u001b[39m5\u001b[39m]:\n\u001b[1;32m----> <a href='vscode-notebook-cell:/c%3A/Users/Lola%20Monroy%20Mir/OneDrive/Escritorio/AWS_LAUZ/explore.ipynb#X40sZmlsZQ%3D%3D?line=5'>6</a>\u001b[0m     reviews \u001b[39m=\u001b[39m subset_cluster[subset_cluster[\u001b[39m\"\u001b[39;49m\u001b[39mpreprocessed\u001b[39;49m\u001b[39m\"\u001b[39;49m]\u001b[39m.\u001b[39mapply(\u001b[39mlambda\u001b[39;00m x: \u001b[39many\u001b[39m(word[\u001b[39m0\u001b[39m] \u001b[39min\u001b[39;00m s \u001b[39mfor\u001b[39;00m s \u001b[39min\u001b[39;00m x))]\n\u001b[0;32m      <a href='vscode-notebook-cell:/c%3A/Users/Lola%20Monroy%20Mir/OneDrive/Escritorio/AWS_LAUZ/explore.ipynb#X40sZmlsZQ%3D%3D?line=6'>7</a>\u001b[0m     rating_words[i][word[\u001b[39m0\u001b[39m]] \u001b[39m=\u001b[39m \u001b[39mround\u001b[39m(reviews[\u001b[39m\"\u001b[39m\u001b[39mRating\u001b[39m\u001b[39m\"\u001b[39m]\u001b[39m.\u001b[39mmean(), \u001b[39m2\u001b[39m)\n",
      "File \u001b[1;32m~\\AppData\\Local\\Packages\\PythonSoftwareFoundation.Python.3.10_qbz5n2kfra8p0\\LocalCache\\local-packages\\Python310\\site-packages\\pandas\\core\\frame.py:3896\u001b[0m, in \u001b[0;36mDataFrame.__getitem__\u001b[1;34m(self, key)\u001b[0m\n\u001b[0;32m   3894\u001b[0m \u001b[39mif\u001b[39;00m \u001b[39mself\u001b[39m\u001b[39m.\u001b[39mcolumns\u001b[39m.\u001b[39mnlevels \u001b[39m>\u001b[39m \u001b[39m1\u001b[39m:\n\u001b[0;32m   3895\u001b[0m     \u001b[39mreturn\u001b[39;00m \u001b[39mself\u001b[39m\u001b[39m.\u001b[39m_getitem_multilevel(key)\n\u001b[1;32m-> 3896\u001b[0m indexer \u001b[39m=\u001b[39m \u001b[39mself\u001b[39;49m\u001b[39m.\u001b[39;49mcolumns\u001b[39m.\u001b[39;49mget_loc(key)\n\u001b[0;32m   3897\u001b[0m \u001b[39mif\u001b[39;00m is_integer(indexer):\n\u001b[0;32m   3898\u001b[0m     indexer \u001b[39m=\u001b[39m [indexer]\n",
      "File \u001b[1;32m~\\AppData\\Local\\Packages\\PythonSoftwareFoundation.Python.3.10_qbz5n2kfra8p0\\LocalCache\\local-packages\\Python310\\site-packages\\pandas\\core\\indexes\\base.py:3797\u001b[0m, in \u001b[0;36mIndex.get_loc\u001b[1;34m(self, key)\u001b[0m\n\u001b[0;32m   3792\u001b[0m     \u001b[39mif\u001b[39;00m \u001b[39misinstance\u001b[39m(casted_key, \u001b[39mslice\u001b[39m) \u001b[39mor\u001b[39;00m (\n\u001b[0;32m   3793\u001b[0m         \u001b[39misinstance\u001b[39m(casted_key, abc\u001b[39m.\u001b[39mIterable)\n\u001b[0;32m   3794\u001b[0m         \u001b[39mand\u001b[39;00m \u001b[39many\u001b[39m(\u001b[39misinstance\u001b[39m(x, \u001b[39mslice\u001b[39m) \u001b[39mfor\u001b[39;00m x \u001b[39min\u001b[39;00m casted_key)\n\u001b[0;32m   3795\u001b[0m     ):\n\u001b[0;32m   3796\u001b[0m         \u001b[39mraise\u001b[39;00m InvalidIndexError(key)\n\u001b[1;32m-> 3797\u001b[0m     \u001b[39mraise\u001b[39;00m \u001b[39mKeyError\u001b[39;00m(key) \u001b[39mfrom\u001b[39;00m \u001b[39merr\u001b[39;00m\n\u001b[0;32m   3798\u001b[0m \u001b[39mexcept\u001b[39;00m \u001b[39mTypeError\u001b[39;00m:\n\u001b[0;32m   3799\u001b[0m     \u001b[39m# If we have a listlike key, _check_indexing_error will raise\u001b[39;00m\n\u001b[0;32m   3800\u001b[0m     \u001b[39m#  InvalidIndexError. Otherwise we fall through and re-raise\u001b[39;00m\n\u001b[0;32m   3801\u001b[0m     \u001b[39m#  the TypeError.\u001b[39;00m\n\u001b[0;32m   3802\u001b[0m     \u001b[39mself\u001b[39m\u001b[39m.\u001b[39m_check_indexing_error(key)\n",
      "\u001b[1;31mKeyError\u001b[0m: 'preprocessed'"
     ]
    }
   ],
   "source": [
    "rating_words = [{} for i in range(3)]\n",
    "for i in range(3):\n",
    "    subset_cluster = subset[subset[\"cluster\"] == i]\n",
    "    rating_words[i]['total'] = round(subset_cluster[\"Rating\"].mean(), 2)\n",
    "    for word in terms_group_more[i][0:5]:\n",
    "        reviews = subset_cluster[subset_cluster[\"preprocessed\"].apply(lambda x: any(word[0] in s for s in x))]\n",
    "        rating_words[i][word[0]] = round(reviews[\"Rating\"].mean(), 2)\n"
   ]
  },
  {
   "cell_type": "code",
   "execution_count": 252,
   "metadata": {},
   "outputs": [
    {
     "data": {
      "text/plain": [
       "\"{'total': 3.69}\""
      ]
     },
     "execution_count": 252,
     "metadata": {},
     "output_type": "execute_result"
    }
   ],
   "source": [
    "str(rating_words[0])"
   ]
  },
  {
   "cell_type": "code",
   "execution_count": 253,
   "metadata": {},
   "outputs": [
    {
     "data": {
      "application/vnd.plotly.v1+json": {
       "config": {
        "plotlyServerURL": "https://plot.ly"
       },
       "data": [
        {
         "hovertemplate": "<b>%{hovertext}</b><br><br>x=%{x}<br>y=%{y}<br>z=%{z}<br>size=%{marker.size}<br>color=%{marker.color}<extra></extra>",
         "hovertext": [
          "{}",
          "{'total': 3.69}",
          "{'total': 3.69}",
          "{}",
          "{}",
          "{}",
          "{'total': 3.69}",
          "{'total': 3.69}",
          "{'total': 3.69}",
          "{'total': 3.69}",
          "{}",
          "{}",
          "{}",
          "{}",
          "{'total': 3.69}",
          "{}",
          "{'total': 3.69}",
          "{'total': 3.69}",
          "{}",
          "{}",
          "{'total': 3.69}",
          "{}",
          "{}",
          "{'total': 3.69}",
          "{}",
          "{'total': 3.69}",
          "{}",
          "{}",
          "{'total': 3.69}",
          "{'total': 3.69}",
          "{'total': 3.69}",
          "{'total': 3.69}",
          "{'total': 3.69}",
          "{}",
          "{}",
          "{'total': 3.69}",
          "{}",
          "{}",
          "{'total': 3.69}",
          "{}",
          "{'total': 3.69}",
          "{}",
          "{'total': 3.69}",
          "{}",
          "{}",
          "{'total': 3.69}",
          "{'total': 3.69}",
          "{}",
          "{'total': 3.69}",
          "{}",
          "{}",
          "{}",
          "{}",
          "{}",
          "{'total': 3.69}",
          "{}",
          "{'total': 3.69}",
          "{}",
          "{}",
          "{}",
          "{}",
          "{}",
          "{'total': 3.69}",
          "{'total': 3.69}",
          "{'total': 3.69}",
          "{}",
          "{}",
          "{}",
          "{}",
          "{}",
          "{'total': 3.69}",
          "{}",
          "{'total': 3.69}",
          "{'total': 3.69}",
          "{}",
          "{}",
          "{'total': 3.69}",
          "{'total': 3.69}",
          "{'total': 3.69}",
          "{}",
          "{}",
          "{}",
          "{}",
          "{'total': 3.69}",
          "{'total': 3.69}",
          "{}",
          "{'total': 3.69}",
          "{'total': 3.69}",
          "{}",
          "{'total': 3.69}",
          "{}",
          "{}",
          "{'total': 3.69}",
          "{}",
          "{}",
          "{'total': 3.69}",
          "{'total': 3.69}",
          "{}",
          "{}",
          "{}",
          "{'total': 3.69}",
          "{'total': 3.69}",
          "{'total': 3.69}",
          "{'total': 3.69}",
          "{}",
          "{}",
          "{}",
          "{}"
         ],
         "legendgroup": "",
         "marker": {
          "color": [
           1,
           0,
           0,
           1,
           1,
           2,
           0,
           0,
           0,
           0,
           2,
           2,
           1,
           1,
           0,
           1,
           0,
           0,
           1,
           1,
           0,
           1,
           2,
           0,
           2,
           0,
           1,
           2,
           0,
           0,
           0,
           0,
           0,
           2,
           2,
           0,
           2,
           1,
           0,
           1,
           0,
           1,
           0,
           2,
           1,
           0,
           0,
           1,
           0,
           2,
           1,
           1,
           1,
           1,
           0,
           2,
           0,
           1,
           1,
           1,
           1,
           1,
           0,
           0,
           0,
           1,
           1,
           1,
           2,
           1,
           0,
           1,
           0,
           0,
           2,
           1,
           0,
           0,
           0,
           1,
           2,
           2,
           1,
           0,
           0,
           1,
           0,
           0,
           2,
           0,
           1,
           2,
           0,
           1,
           1,
           0,
           0,
           1,
           1,
           2,
           0,
           0,
           0,
           0,
           1,
           2,
           2,
           1
          ],
          "coloraxis": "coloraxis",
          "size": [
           2,
           2,
           2,
           2,
           2,
           2,
           2,
           2,
           2,
           2,
           2,
           2,
           2,
           2,
           2,
           2,
           2,
           2,
           2,
           2,
           2,
           2,
           2,
           2,
           2,
           2,
           2,
           2,
           2,
           2,
           2,
           2,
           2,
           2,
           2,
           2,
           2,
           2,
           2,
           2,
           2,
           2,
           2,
           2,
           2,
           2,
           2,
           2,
           2,
           2,
           2,
           2,
           2,
           2,
           2,
           2,
           2,
           2,
           2,
           2,
           2,
           2,
           2,
           2,
           2,
           2,
           2,
           2,
           2,
           2,
           2,
           2,
           2,
           2,
           2,
           2,
           2,
           2,
           2,
           2,
           2,
           2,
           2,
           2,
           2,
           2,
           2,
           2,
           2,
           2,
           2,
           2,
           2,
           2,
           2,
           2,
           2,
           2,
           2,
           2,
           2,
           2,
           2,
           2,
           2,
           2,
           2,
           2
          ],
          "sizemode": "area",
          "sizeref": 0.005,
          "symbol": "circle"
         },
         "mode": "markers",
         "name": "",
         "scene": "scene",
         "showlegend": false,
         "type": "scatter3d",
         "x": [
          -0.047440528869628906,
          0.9701669216156006,
          0.03256802633404732,
          -1.6835060119628906,
          -1.3801552057266235,
          0.5832564234733582,
          0.8112033009529114,
          1.288325548171997,
          -0.10649243742227554,
          1.6157609224319458,
          1.7531627416610718,
          0.4242449700832367,
          -1.4542460441589355,
          -2.018515110015869,
          0.4204106032848358,
          -2.0458598136901855,
          0.10933040827512741,
          0.6307682991027832,
          -1.5540012121200562,
          -1.2002198696136475,
          0.5844534635543823,
          -0.8881471753120422,
          3.2704265117645264,
          0.32036158442497253,
          2.835754156112671,
          0.4383852779865265,
          -1.0032755136489868,
          1.5078160762786865,
          0.3760516047477722,
          -0.5359386801719666,
          0.5789203643798828,
          0.8057340383529663,
          0.15897931158542633,
          1.920557975769043,
          1.0856510400772095,
          0.0025636276695877314,
          4.790528297424316,
          -1.7525421380996704,
          0.3398383855819702,
          -1.2467012405395508,
          0.6663081049919128,
          -1.76920747756958,
          -0.35530033707618713,
          1.8409690856933594,
          -1.4640779495239258,
          0.9766367673873901,
          -0.4369545876979828,
          -0.929305374622345,
          -0.27113181352615356,
          4.064452648162842,
          -1.3136552572250366,
          -1.6823846101760864,
          -2.1501283645629883,
          -2.2058639526367188,
          1.8330055475234985,
          4.594783782958984,
          -0.3028872311115265,
          -1.7878998517990112,
          -1.454727053642273,
          -1.403784155845642,
          -0.7938838601112366,
          -1.5678976774215698,
          0.18146298825740814,
          -0.6380210518836975,
          0.24914392828941345,
          -2.700552225112915,
          -1.5637671947479248,
          -0.9548298120498657,
          2.7198967933654785,
          -1.6031733751296997,
          -0.17429375648498535,
          -1.0854099988937378,
          -0.9124449491500854,
          0.6985529065132141,
          0.6178812384605408,
          -1.4371591806411743,
          0.3681730628013611,
          1.1509681940078735,
          0.33544325828552246,
          -1.4019445180892944,
          1.8011364936828613,
          2.7344613075256348,
          -1.3074817657470703,
          0.2633930444717407,
          0.3539925515651703,
          -2.1678824424743652,
          -0.37297022342681885,
          -0.3618151545524597,
          2.023719549179077,
          -0.3037688136100769,
          -1.5203242301940918,
          1.1864689588546753,
          -0.5621142387390137,
          -1.2302641868591309,
          -0.047441694885492325,
          0.9701669216156006,
          0.03256802633404732,
          -1.6835060119628906,
          -1.3801552057266235,
          0.5832564234733582,
          0.8112033009529114,
          1.288325548171997,
          -0.10649243742227554,
          1.6157609224319458,
          -2.018515110015869,
          1.7531627416610718,
          0.4242449700832367,
          -1.4542460441589355
         ],
         "y": [
          2.452585220336914,
          1.0060851573944092,
          0.02783842943608761,
          -0.4656745195388794,
          -0.6490402221679688,
          1.0923179388046265,
          -0.5658491849899292,
          0.04777803272008896,
          0.7385406494140625,
          -2.0504443645477295,
          -0.6472248435020447,
          0.9672235250473022,
          1.5451111793518066,
          0.17029906809329987,
          -1.4190617799758911,
          1.716279149055481,
          0.789506733417511,
          1.4459748268127441,
          -0.551572322845459,
          0.2971874475479126,
          -0.21931730210781097,
          0.14257706701755524,
          0.12992146611213684,
          1.1455236673355103,
          -0.2486017346382141,
          -0.07501590251922607,
          -0.6819321513175964,
          0.26137053966522217,
          -0.6221146583557129,
          -1.0254584550857544,
          -0.8971327543258667,
          -1.2820584774017334,
          -1.3314872980117798,
          0.48608264327049255,
          -0.31098735332489014,
          -1.0622060298919678,
          0.08339289575815201,
          -0.5268357992172241,
          -0.15707257390022278,
          -0.6789119839668274,
          -0.49124622344970703,
          0.13314500451087952,
          -1.0439434051513672,
          -0.7006763219833374,
          1.144715428352356,
          -0.5730305910110474,
          -0.582733154296875,
          -0.30100947618484497,
          0.6570518612861633,
          1.5636560916900635,
          0.45575886964797974,
          -0.4670707583427429,
          0.5791144967079163,
          -0.34696733951568604,
          -0.27337610721588135,
          0.21730953454971313,
          -0.892850399017334,
          -0.5110164284706116,
          -1.0058852434158325,
          -1.1264426708221436,
          -0.15004141628742218,
          -0.563403308391571,
          -0.3502236306667328,
          -0.18964669108390808,
          -0.694660484790802,
          2.349940061569214,
          2.3593719005584717,
          0.8163268566131592,
          1.9602446556091309,
          1.087562084197998,
          -1.1196510791778564,
          1.8926540613174438,
          -0.6714692711830139,
          -0.7392640113830566,
          0.08625344932079315,
          -0.39944395422935486,
          -1.559267520904541,
          -1.1385611295700073,
          0.736221194267273,
          -0.7376682758331299,
          -0.8065059185028076,
          1.4208340644836426,
          -0.20185954868793488,
          -0.8792243003845215,
          -0.6352636218070984,
          -0.07293016463518143,
          -0.12731707096099854,
          -0.818480908870697,
          0.979653537273407,
          0.31639721989631653,
          -0.8195371031761169,
          1.2747715711593628,
          -0.9124645590782166,
          -0.8749908804893494,
          2.452585220336914,
          1.0060852766036987,
          0.027838721871376038,
          -0.4656745195388794,
          -0.6490402221679688,
          1.0923179388046265,
          -0.5658491849899292,
          0.04777803272008896,
          0.7385406494140625,
          -2.0504443645477295,
          0.17029906809329987,
          -0.6472248435020447,
          0.9672235250473022,
          1.5451111793518066
         ],
         "z": [
          -0.9550008773803711,
          -0.3714204430580139,
          1.1590958833694458,
          0.06456734985113144,
          -0.28832459449768066,
          2.4162580966949463,
          -0.2658623158931732,
          0.15667568147182465,
          -1.1912814378738403,
          -0.7745603322982788,
          1.9151215553283691,
          1.5763788223266602,
          -0.36165931820869446,
          -0.3289705514907837,
          -0.4592220187187195,
          -1.19843327999115,
          -0.6953853368759155,
          0.3501916229724884,
          0.10588160157203674,
          0.14197243750095367,
          -1.6983468532562256,
          -0.09731011092662811,
          -1.1848845481872559,
          -0.31151890754699707,
          0.44998955726623535,
          0.14270885288715363,
          0.2213236689567566,
          1.4563947916030884,
          -0.36482739448547363,
          -0.17140735685825348,
          0.010458582080900669,
          -0.8513765335083008,
          -0.5336418151855469,
          1.7377007007598877,
          0.7747403383255005,
          -0.13845567405223846,
          -2.168907880783081,
          0.6523768305778503,
          -0.20891089737415314,
          0.5796352028846741,
          0.06923284381628036,
          0.07255575060844421,
          0.8458852171897888,
          0.13055334985256195,
          -0.8041742444038391,
          0.021745452657341957,
          -0.21821612119674683,
          0.09151013940572739,
          -0.5125579237937927,
          1.2336375713348389,
          0.05583794414997101,
          1.1509946584701538,
          -0.21223703026771545,
          0.05192560330033302,
          -0.3902209997177124,
          -1.4707268476486206,
          -0.6520711779594421,
          0.06749724596738815,
          0.9145532846450806,
          0.5636841058731079,
          -1.0127853155136108,
          0.6664665341377258,
          -1.1737358570098877,
          -0.45766353607177734,
          -0.23635989427566528,
          -0.8371209502220154,
          -0.6295757293701172,
          -0.5716087222099304,
          -1.0757192373275757,
          0.21063187718391418,
          0.09868599474430084,
          0.3507705628871918,
          -1.3958561420440674,
          0.06406555324792862,
          3.21836256980896,
          0.5307251811027527,
          -1.1400831937789917,
          -0.8038002252578735,
          0.2088617980480194,
          0.41984590888023376,
          0.9067775011062622,
          0.8588765263557434,
          0.05660539120435715,
          -0.3050607740879059,
          -0.5316006541252136,
          0.914188802242279,
          -0.7037119269371033,
          -1.0462278127670288,
          0.05581728368997574,
          -0.2802704870700836,
          0.43117278814315796,
          0.0655287653207779,
          0.04734573885798454,
          0.044269803911447525,
          -0.9550009369850159,
          -0.3714202642440796,
          1.1590954065322876,
          0.06456734985113144,
          -0.28832459449768066,
          2.4162580966949463,
          -0.2658623158931732,
          0.15667568147182465,
          -1.1912814378738403,
          -0.7745603322982788,
          -0.3289705514907837,
          1.9151215553283691,
          1.5763788223266602,
          -0.36165931820869446
         ]
        }
       ],
       "layout": {
        "coloraxis": {
         "colorbar": {
          "title": {
           "text": "color"
          }
         },
         "colorscale": [
          [
           0,
           "#0d0887"
          ],
          [
           0.1111111111111111,
           "#46039f"
          ],
          [
           0.2222222222222222,
           "#7201a8"
          ],
          [
           0.3333333333333333,
           "#9c179e"
          ],
          [
           0.4444444444444444,
           "#bd3786"
          ],
          [
           0.5555555555555556,
           "#d8576b"
          ],
          [
           0.6666666666666666,
           "#ed7953"
          ],
          [
           0.7777777777777778,
           "#fb9f3a"
          ],
          [
           0.8888888888888888,
           "#fdca26"
          ],
          [
           1,
           "#f0f921"
          ]
         ]
        },
        "legend": {
         "itemsizing": "constant",
         "tracegroupgap": 0
        },
        "margin": {
         "t": 60
        },
        "scene": {
         "domain": {
          "x": [
           0,
           1
          ],
          "y": [
           0,
           1
          ]
         },
         "xaxis": {
          "title": {
           "text": "X-axis"
          }
         },
         "yaxis": {
          "title": {
           "text": "Y-axis"
          }
         },
         "zaxis": {
          "title": {
           "text": "Z-axis"
          }
         }
        },
        "template": {
         "data": {
          "bar": [
           {
            "error_x": {
             "color": "#2a3f5f"
            },
            "error_y": {
             "color": "#2a3f5f"
            },
            "marker": {
             "line": {
              "color": "#E5ECF6",
              "width": 0.5
             },
             "pattern": {
              "fillmode": "overlay",
              "size": 10,
              "solidity": 0.2
             }
            },
            "type": "bar"
           }
          ],
          "barpolar": [
           {
            "marker": {
             "line": {
              "color": "#E5ECF6",
              "width": 0.5
             },
             "pattern": {
              "fillmode": "overlay",
              "size": 10,
              "solidity": 0.2
             }
            },
            "type": "barpolar"
           }
          ],
          "carpet": [
           {
            "aaxis": {
             "endlinecolor": "#2a3f5f",
             "gridcolor": "white",
             "linecolor": "white",
             "minorgridcolor": "white",
             "startlinecolor": "#2a3f5f"
            },
            "baxis": {
             "endlinecolor": "#2a3f5f",
             "gridcolor": "white",
             "linecolor": "white",
             "minorgridcolor": "white",
             "startlinecolor": "#2a3f5f"
            },
            "type": "carpet"
           }
          ],
          "choropleth": [
           {
            "colorbar": {
             "outlinewidth": 0,
             "ticks": ""
            },
            "type": "choropleth"
           }
          ],
          "contour": [
           {
            "colorbar": {
             "outlinewidth": 0,
             "ticks": ""
            },
            "colorscale": [
             [
              0,
              "#0d0887"
             ],
             [
              0.1111111111111111,
              "#46039f"
             ],
             [
              0.2222222222222222,
              "#7201a8"
             ],
             [
              0.3333333333333333,
              "#9c179e"
             ],
             [
              0.4444444444444444,
              "#bd3786"
             ],
             [
              0.5555555555555556,
              "#d8576b"
             ],
             [
              0.6666666666666666,
              "#ed7953"
             ],
             [
              0.7777777777777778,
              "#fb9f3a"
             ],
             [
              0.8888888888888888,
              "#fdca26"
             ],
             [
              1,
              "#f0f921"
             ]
            ],
            "type": "contour"
           }
          ],
          "contourcarpet": [
           {
            "colorbar": {
             "outlinewidth": 0,
             "ticks": ""
            },
            "type": "contourcarpet"
           }
          ],
          "heatmap": [
           {
            "colorbar": {
             "outlinewidth": 0,
             "ticks": ""
            },
            "colorscale": [
             [
              0,
              "#0d0887"
             ],
             [
              0.1111111111111111,
              "#46039f"
             ],
             [
              0.2222222222222222,
              "#7201a8"
             ],
             [
              0.3333333333333333,
              "#9c179e"
             ],
             [
              0.4444444444444444,
              "#bd3786"
             ],
             [
              0.5555555555555556,
              "#d8576b"
             ],
             [
              0.6666666666666666,
              "#ed7953"
             ],
             [
              0.7777777777777778,
              "#fb9f3a"
             ],
             [
              0.8888888888888888,
              "#fdca26"
             ],
             [
              1,
              "#f0f921"
             ]
            ],
            "type": "heatmap"
           }
          ],
          "heatmapgl": [
           {
            "colorbar": {
             "outlinewidth": 0,
             "ticks": ""
            },
            "colorscale": [
             [
              0,
              "#0d0887"
             ],
             [
              0.1111111111111111,
              "#46039f"
             ],
             [
              0.2222222222222222,
              "#7201a8"
             ],
             [
              0.3333333333333333,
              "#9c179e"
             ],
             [
              0.4444444444444444,
              "#bd3786"
             ],
             [
              0.5555555555555556,
              "#d8576b"
             ],
             [
              0.6666666666666666,
              "#ed7953"
             ],
             [
              0.7777777777777778,
              "#fb9f3a"
             ],
             [
              0.8888888888888888,
              "#fdca26"
             ],
             [
              1,
              "#f0f921"
             ]
            ],
            "type": "heatmapgl"
           }
          ],
          "histogram": [
           {
            "marker": {
             "pattern": {
              "fillmode": "overlay",
              "size": 10,
              "solidity": 0.2
             }
            },
            "type": "histogram"
           }
          ],
          "histogram2d": [
           {
            "colorbar": {
             "outlinewidth": 0,
             "ticks": ""
            },
            "colorscale": [
             [
              0,
              "#0d0887"
             ],
             [
              0.1111111111111111,
              "#46039f"
             ],
             [
              0.2222222222222222,
              "#7201a8"
             ],
             [
              0.3333333333333333,
              "#9c179e"
             ],
             [
              0.4444444444444444,
              "#bd3786"
             ],
             [
              0.5555555555555556,
              "#d8576b"
             ],
             [
              0.6666666666666666,
              "#ed7953"
             ],
             [
              0.7777777777777778,
              "#fb9f3a"
             ],
             [
              0.8888888888888888,
              "#fdca26"
             ],
             [
              1,
              "#f0f921"
             ]
            ],
            "type": "histogram2d"
           }
          ],
          "histogram2dcontour": [
           {
            "colorbar": {
             "outlinewidth": 0,
             "ticks": ""
            },
            "colorscale": [
             [
              0,
              "#0d0887"
             ],
             [
              0.1111111111111111,
              "#46039f"
             ],
             [
              0.2222222222222222,
              "#7201a8"
             ],
             [
              0.3333333333333333,
              "#9c179e"
             ],
             [
              0.4444444444444444,
              "#bd3786"
             ],
             [
              0.5555555555555556,
              "#d8576b"
             ],
             [
              0.6666666666666666,
              "#ed7953"
             ],
             [
              0.7777777777777778,
              "#fb9f3a"
             ],
             [
              0.8888888888888888,
              "#fdca26"
             ],
             [
              1,
              "#f0f921"
             ]
            ],
            "type": "histogram2dcontour"
           }
          ],
          "mesh3d": [
           {
            "colorbar": {
             "outlinewidth": 0,
             "ticks": ""
            },
            "type": "mesh3d"
           }
          ],
          "parcoords": [
           {
            "line": {
             "colorbar": {
              "outlinewidth": 0,
              "ticks": ""
             }
            },
            "type": "parcoords"
           }
          ],
          "pie": [
           {
            "automargin": true,
            "type": "pie"
           }
          ],
          "scatter": [
           {
            "fillpattern": {
             "fillmode": "overlay",
             "size": 10,
             "solidity": 0.2
            },
            "type": "scatter"
           }
          ],
          "scatter3d": [
           {
            "line": {
             "colorbar": {
              "outlinewidth": 0,
              "ticks": ""
             }
            },
            "marker": {
             "colorbar": {
              "outlinewidth": 0,
              "ticks": ""
             }
            },
            "type": "scatter3d"
           }
          ],
          "scattercarpet": [
           {
            "marker": {
             "colorbar": {
              "outlinewidth": 0,
              "ticks": ""
             }
            },
            "type": "scattercarpet"
           }
          ],
          "scattergeo": [
           {
            "marker": {
             "colorbar": {
              "outlinewidth": 0,
              "ticks": ""
             }
            },
            "type": "scattergeo"
           }
          ],
          "scattergl": [
           {
            "marker": {
             "colorbar": {
              "outlinewidth": 0,
              "ticks": ""
             }
            },
            "type": "scattergl"
           }
          ],
          "scattermapbox": [
           {
            "marker": {
             "colorbar": {
              "outlinewidth": 0,
              "ticks": ""
             }
            },
            "type": "scattermapbox"
           }
          ],
          "scatterpolar": [
           {
            "marker": {
             "colorbar": {
              "outlinewidth": 0,
              "ticks": ""
             }
            },
            "type": "scatterpolar"
           }
          ],
          "scatterpolargl": [
           {
            "marker": {
             "colorbar": {
              "outlinewidth": 0,
              "ticks": ""
             }
            },
            "type": "scatterpolargl"
           }
          ],
          "scatterternary": [
           {
            "marker": {
             "colorbar": {
              "outlinewidth": 0,
              "ticks": ""
             }
            },
            "type": "scatterternary"
           }
          ],
          "surface": [
           {
            "colorbar": {
             "outlinewidth": 0,
             "ticks": ""
            },
            "colorscale": [
             [
              0,
              "#0d0887"
             ],
             [
              0.1111111111111111,
              "#46039f"
             ],
             [
              0.2222222222222222,
              "#7201a8"
             ],
             [
              0.3333333333333333,
              "#9c179e"
             ],
             [
              0.4444444444444444,
              "#bd3786"
             ],
             [
              0.5555555555555556,
              "#d8576b"
             ],
             [
              0.6666666666666666,
              "#ed7953"
             ],
             [
              0.7777777777777778,
              "#fb9f3a"
             ],
             [
              0.8888888888888888,
              "#fdca26"
             ],
             [
              1,
              "#f0f921"
             ]
            ],
            "type": "surface"
           }
          ],
          "table": [
           {
            "cells": {
             "fill": {
              "color": "#EBF0F8"
             },
             "line": {
              "color": "white"
             }
            },
            "header": {
             "fill": {
              "color": "#C8D4E3"
             },
             "line": {
              "color": "white"
             }
            },
            "type": "table"
           }
          ]
         },
         "layout": {
          "annotationdefaults": {
           "arrowcolor": "#2a3f5f",
           "arrowhead": 0,
           "arrowwidth": 1
          },
          "autotypenumbers": "strict",
          "coloraxis": {
           "colorbar": {
            "outlinewidth": 0,
            "ticks": ""
           }
          },
          "colorscale": {
           "diverging": [
            [
             0,
             "#8e0152"
            ],
            [
             0.1,
             "#c51b7d"
            ],
            [
             0.2,
             "#de77ae"
            ],
            [
             0.3,
             "#f1b6da"
            ],
            [
             0.4,
             "#fde0ef"
            ],
            [
             0.5,
             "#f7f7f7"
            ],
            [
             0.6,
             "#e6f5d0"
            ],
            [
             0.7,
             "#b8e186"
            ],
            [
             0.8,
             "#7fbc41"
            ],
            [
             0.9,
             "#4d9221"
            ],
            [
             1,
             "#276419"
            ]
           ],
           "sequential": [
            [
             0,
             "#0d0887"
            ],
            [
             0.1111111111111111,
             "#46039f"
            ],
            [
             0.2222222222222222,
             "#7201a8"
            ],
            [
             0.3333333333333333,
             "#9c179e"
            ],
            [
             0.4444444444444444,
             "#bd3786"
            ],
            [
             0.5555555555555556,
             "#d8576b"
            ],
            [
             0.6666666666666666,
             "#ed7953"
            ],
            [
             0.7777777777777778,
             "#fb9f3a"
            ],
            [
             0.8888888888888888,
             "#fdca26"
            ],
            [
             1,
             "#f0f921"
            ]
           ],
           "sequentialminus": [
            [
             0,
             "#0d0887"
            ],
            [
             0.1111111111111111,
             "#46039f"
            ],
            [
             0.2222222222222222,
             "#7201a8"
            ],
            [
             0.3333333333333333,
             "#9c179e"
            ],
            [
             0.4444444444444444,
             "#bd3786"
            ],
            [
             0.5555555555555556,
             "#d8576b"
            ],
            [
             0.6666666666666666,
             "#ed7953"
            ],
            [
             0.7777777777777778,
             "#fb9f3a"
            ],
            [
             0.8888888888888888,
             "#fdca26"
            ],
            [
             1,
             "#f0f921"
            ]
           ]
          },
          "colorway": [
           "#636efa",
           "#EF553B",
           "#00cc96",
           "#ab63fa",
           "#FFA15A",
           "#19d3f3",
           "#FF6692",
           "#B6E880",
           "#FF97FF",
           "#FECB52"
          ],
          "font": {
           "color": "#2a3f5f"
          },
          "geo": {
           "bgcolor": "white",
           "lakecolor": "white",
           "landcolor": "#E5ECF6",
           "showlakes": true,
           "showland": true,
           "subunitcolor": "white"
          },
          "hoverlabel": {
           "align": "left"
          },
          "hovermode": "closest",
          "mapbox": {
           "style": "light"
          },
          "paper_bgcolor": "white",
          "plot_bgcolor": "#E5ECF6",
          "polar": {
           "angularaxis": {
            "gridcolor": "white",
            "linecolor": "white",
            "ticks": ""
           },
           "bgcolor": "#E5ECF6",
           "radialaxis": {
            "gridcolor": "white",
            "linecolor": "white",
            "ticks": ""
           }
          },
          "scene": {
           "xaxis": {
            "backgroundcolor": "#E5ECF6",
            "gridcolor": "white",
            "gridwidth": 2,
            "linecolor": "white",
            "showbackground": true,
            "ticks": "",
            "zerolinecolor": "white"
           },
           "yaxis": {
            "backgroundcolor": "#E5ECF6",
            "gridcolor": "white",
            "gridwidth": 2,
            "linecolor": "white",
            "showbackground": true,
            "ticks": "",
            "zerolinecolor": "white"
           },
           "zaxis": {
            "backgroundcolor": "#E5ECF6",
            "gridcolor": "white",
            "gridwidth": 2,
            "linecolor": "white",
            "showbackground": true,
            "ticks": "",
            "zerolinecolor": "white"
           }
          },
          "shapedefaults": {
           "line": {
            "color": "#2a3f5f"
           }
          },
          "ternary": {
           "aaxis": {
            "gridcolor": "white",
            "linecolor": "white",
            "ticks": ""
           },
           "baxis": {
            "gridcolor": "white",
            "linecolor": "white",
            "ticks": ""
           },
           "bgcolor": "#E5ECF6",
           "caxis": {
            "gridcolor": "white",
            "linecolor": "white",
            "ticks": ""
           }
          },
          "title": {
           "x": 0.05
          },
          "xaxis": {
           "automargin": true,
           "gridcolor": "white",
           "linecolor": "white",
           "ticks": "",
           "title": {
            "standoff": 15
           },
           "zerolinecolor": "white",
           "zerolinewidth": 2
          },
          "yaxis": {
           "automargin": true,
           "gridcolor": "white",
           "linecolor": "white",
           "ticks": "",
           "title": {
            "standoff": 15
           },
           "zerolinecolor": "white",
           "zerolinewidth": 2
          }
         }
        },
        "title": {
         "text": "Interactive 3D Scatter Plot with Hover Text"
        }
       }
      }
     },
     "metadata": {},
     "output_type": "display_data"
    }
   ],
   "source": [
    "labels = []\n",
    "for i in range(project.shape[0]):\n",
    "    labels.append([terms_group_more[clusters[i]][j][0] for j in range(5)])\n",
    "\n",
    "labels = []\n",
    "for i in range(project.shape[0]):\n",
    "    labels.append(str(rating_words[clusters[i]]).replace(',', '<br>'))\n",
    " \n",
    "# Create a 3D scatter plot with hover text\n",
    "fig = px.scatter_3d(x=project[:,0], y=project[:,1], z=project[:,2], hover_name=labels, hover_data = [], color=clusters, size=[2]*project.shape[0])\n",
    "\n",
    "# Set layout options for better readability\n",
    "fig.update_layout(\n",
    "    title=\"Interactive 3D Scatter Plot with Hover Text\",\n",
    "    scene=dict(\n",
    "        xaxis_title=\"X-axis\",\n",
    "        yaxis_title=\"Y-axis\",\n",
    "        zaxis_title=\"Z-axis\"\n",
    "    )\n",
    ")\n",
    "\n",
    "# Show the plot\n",
    "fig.show()"
   ]
  },
  {
   "cell_type": "code",
   "execution_count": null,
   "metadata": {},
   "outputs": [],
   "source": [
    "plt.figure(figsize=(10, 6))\n",
    "sns.histplot(data=subset, x='Rating', hue='cluster', multiple=\"stack\", bins=5)\n",
    "plt.show()"
   ]
  },
  {
   "cell_type": "code",
   "execution_count": 243,
   "metadata": {},
   "outputs": [
    {
     "name": "stderr",
     "output_type": "stream",
     "text": [
      "[nltk_data] Downloading package stopwords to C:\\Users\\Lola Monroy\n",
      "[nltk_data]     Mir\\AppData\\Roaming\\nltk_data...\n",
      "[nltk_data]   Package stopwords is already up-to-date!\n",
      "[nltk_data] Downloading package punkt to C:\\Users\\Lola Monroy\n",
      "[nltk_data]     Mir\\AppData\\Roaming\\nltk_data...\n",
      "[nltk_data]   Package punkt is already up-to-date!\n",
      "C:\\Users\\Lola Monroy Mir\\AppData\\Local\\Temp\\ipykernel_24140\\179199217.py:22: SettingWithCopyWarning:\n",
      "\n",
      "\n",
      "A value is trying to be set on a copy of a slice from a DataFrame.\n",
      "Try using .loc[row_indexer,col_indexer] = value instead\n",
      "\n",
      "See the caveats in the documentation: https://pandas.pydata.org/pandas-docs/stable/user_guide/indexing.html#returning-a-view-versus-a-copy\n",
      "\n"
     ]
    }
   ],
   "source": [
    "from nltk.tokenize import word_tokenize\n",
    "from nltk.corpus import stopwords\n",
    "from nltk.stem import PorterStemmer\n",
    "from collections import Counter\n",
    "import nltk\n",
    "nltk.download('stopwords')\n",
    "nltk.download('punkt')\n",
    "\n",
    "def preprocess(doc):\n",
    "    stop_words = set(stopwords.words('english'))\n",
    "    ps = PorterStemmer()\n",
    "    processed_docs = []\n",
    "    words = [ps.stem(word.lower()) for word in word_tokenize(doc) if word.isalpha() and word.lower() not in stop_words]\n",
    "    return words\n",
    "\n",
    "def calculate_term_frequency(documents):\n",
    "    term_frequency = Counter()\n",
    "    for doc in documents:\n",
    "        term_frequency.update(doc)\n",
    "    return term_frequency\n",
    "\n",
    "subset[\"preprocessed\"] = subset[\"Reviews\"].apply(preprocess)\n",
    "tf_group = [calculate_term_frequency(subset[\"preprocessed\"][subset[\"cluster\"] == i]) for i in range(3)]\n",
    "terms_group_more = [{term: tf_group[i][term] for term in tf_group[i] if tf_group[i][term] > tf_group[(i+1)%3][term] \n",
    "                        and tf_group[i][term] > tf_group[(i+2)%3][term]} for i in range(3)]\n",
    "terms_group_more = [sorted(cnt.items(), key=lambda x: x[1], reverse=True) for cnt in terms_group_more]"
   ]
  },
  {
   "cell_type": "code",
   "execution_count": 244,
   "metadata": {},
   "outputs": [
    {
     "data": {
      "text/plain": [
       "[('screen', 92),\n",
       " ('devic', 61),\n",
       " ('use', 55),\n",
       " ('get', 44),\n",
       " ('like', 38),\n",
       " ('issu', 37),\n",
       " ('would', 33),\n",
       " ('great', 31),\n",
       " ('work', 30),\n",
       " ('back', 30),\n",
       " ('time', 29),\n",
       " ('camera', 28),\n",
       " ('even', 27),\n",
       " ('also', 26),\n",
       " ('lollipop', 26),\n",
       " ('still', 25),\n",
       " ('card', 24),\n",
       " ('day', 23),\n",
       " ('updat', 23),\n",
       " ('littl', 22),\n",
       " ('love', 21),\n",
       " ('tri', 21),\n",
       " ('run', 19),\n",
       " ('thing', 18),\n",
       " ('bought', 16),\n",
       " ('custom', 16),\n",
       " ('upgrad', 15),\n",
       " ('ca', 15),\n",
       " ('call', 15),\n",
       " ('look', 15),\n",
       " ('big', 15),\n",
       " ('deal', 14),\n",
       " ('nice', 14),\n",
       " ('say', 14),\n",
       " ('servic', 14),\n",
       " ('first', 14),\n",
       " ('buy', 13),\n",
       " ('sinc', 13),\n",
       " ('button', 13),\n",
       " ('put', 13),\n",
       " ('though', 13),\n",
       " ('video', 13),\n",
       " ('let', 12),\n",
       " ('volum', 12),\n",
       " ('seem', 12),\n",
       " ('definit', 12),\n",
       " ('send', 12),\n",
       " ('almost', 12),\n",
       " ('nexu', 12),\n",
       " ('charg', 12),\n",
       " ('give', 11),\n",
       " ('might', 11),\n",
       " ('actual', 11),\n",
       " ('receiv', 11),\n",
       " ('turn', 11),\n",
       " ('want', 11),\n",
       " ('text', 11),\n",
       " ('differ', 10),\n",
       " ('tell', 10),\n",
       " ('know', 10),\n",
       " ('abl', 10),\n",
       " ('respons', 10),\n",
       " ('ok', 10),\n",
       " ('went', 9),\n",
       " ('power', 9),\n",
       " ('right', 9),\n",
       " ('amazon', 9),\n",
       " ('week', 9),\n",
       " ('start', 9),\n",
       " ('keep', 9),\n",
       " ('wifi', 9),\n",
       " ('touch', 9),\n",
       " ('way', 9),\n",
       " ('pictur', 9),\n",
       " ('lock', 9),\n",
       " ('sure', 8),\n",
       " ('money', 8),\n",
       " ('everyth', 8),\n",
       " ('find', 8),\n",
       " ('touchscreen', 8),\n",
       " ('help', 8),\n",
       " ('decent', 8),\n",
       " ('wish', 8),\n",
       " ('drop', 8),\n",
       " ('wait', 8),\n",
       " ('last', 8),\n",
       " ('etc', 8),\n",
       " ('far', 8),\n",
       " ('second', 8),\n",
       " ('support', 7),\n",
       " ('inch', 7),\n",
       " ('hour', 7),\n",
       " ('ask', 7),\n",
       " ('smooth', 7),\n",
       " ('mean', 7),\n",
       " ('gb', 7),\n",
       " ('glass', 7),\n",
       " ('end', 7),\n",
       " ('press', 7),\n",
       " ('contact', 7),\n",
       " ('sort', 7),\n",
       " ('wallpap', 7),\n",
       " ('sometim', 7),\n",
       " ('anoth', 7),\n",
       " ('unlock', 7),\n",
       " ('dial', 7),\n",
       " ('fix', 7),\n",
       " ('game', 7),\n",
       " ('version', 6),\n",
       " ('web', 6),\n",
       " ('experienc', 6),\n",
       " ('stand', 6),\n",
       " ('gorilla', 6),\n",
       " ('less', 6),\n",
       " ('valu', 6),\n",
       " ('spend', 6),\n",
       " ('ship', 6),\n",
       " ('number', 6),\n",
       " ('launcher', 6),\n",
       " ('recept', 6),\n",
       " ('enough', 6),\n",
       " ('processor', 6),\n",
       " ('notif', 6),\n",
       " ('slot', 6),\n",
       " ('took', 6),\n",
       " ('sensit', 6),\n",
       " ('heavi', 5),\n",
       " ('auto', 5),\n",
       " ('ive', 5),\n",
       " ('mine', 5),\n",
       " ('blue', 5),\n",
       " ('paid', 5),\n",
       " ('fine', 5),\n",
       " ('thumb', 5),\n",
       " ('reason', 5),\n",
       " ('damag', 5),\n",
       " ('guess', 5),\n",
       " ('broken', 5),\n",
       " ('neg', 5),\n",
       " ('overal', 5),\n",
       " ('respond', 5),\n",
       " ('horribl', 5),\n",
       " ('freez', 5),\n",
       " ('return', 5),\n",
       " ('test', 5),\n",
       " ('messag', 5),\n",
       " ('click', 5),\n",
       " ('lte', 5),\n",
       " ('thought', 5),\n",
       " ('softwar', 5),\n",
       " ('show', 5),\n",
       " ('anyth', 5),\n",
       " ('push', 5),\n",
       " ('next', 5),\n",
       " ('slide', 5),\n",
       " ('wonder', 5),\n",
       " ('type', 5),\n",
       " ('menu', 5),\n",
       " ('band', 4),\n",
       " ('us', 4),\n",
       " ('im', 4),\n",
       " ('whole', 4),\n",
       " ('guy', 4),\n",
       " ('friend', 4),\n",
       " ('lightweight', 4),\n",
       " ('angl', 4),\n",
       " ('slowdown', 4),\n",
       " ('part', 4),\n",
       " ('annoy', 4),\n",
       " ('locat', 4),\n",
       " ('space', 4),\n",
       " ('oneplu', 4),\n",
       " ('least', 4),\n",
       " ('perfect', 4),\n",
       " ('els', 4),\n",
       " ('check', 4),\n",
       " ('stop', 4),\n",
       " ('hope', 4),\n",
       " ('basic', 4),\n",
       " ('becom', 4),\n",
       " ('instantli', 4),\n",
       " ('pay', 4),\n",
       " ('buck', 4),\n",
       " ('happen', 4),\n",
       " ('alway', 4),\n",
       " ('dont', 4),\n",
       " ('lol', 4),\n",
       " ('touchi', 4),\n",
       " ('pic', 4),\n",
       " ('bottom', 4),\n",
       " ('left', 4),\n",
       " ('person', 4),\n",
       " ('mother', 4),\n",
       " ('break', 4),\n",
       " ('advertis', 4),\n",
       " ('build', 4),\n",
       " ('top', 4),\n",
       " ('assum', 4),\n",
       " ('finger', 4),\n",
       " ('plenti', 4),\n",
       " ('hand', 4),\n",
       " ('carrier', 3),\n",
       " ('word', 3),\n",
       " ('flagship', 3),\n",
       " ('bare', 3),\n",
       " ('hit', 3),\n",
       " ('youll', 3),\n",
       " ('voic', 3),\n",
       " ('steal', 3),\n",
       " ('quit', 3),\n",
       " ('adjust', 3),\n",
       " ('len', 3),\n",
       " ('lay', 3),\n",
       " ('dead', 3),\n",
       " ('bother', 3),\n",
       " ('separ', 3),\n",
       " ('unus', 3),\n",
       " ('reward', 3),\n",
       " ('besid', 3),\n",
       " ('origin', 3),\n",
       " ('specif', 3),\n",
       " ('chanc', 3),\n",
       " ('half', 3),\n",
       " ('anyway', 3),\n",
       " ('decis', 3),\n",
       " ('certain', 3),\n",
       " ('key', 3),\n",
       " ('sent', 3),\n",
       " ('track', 3),\n",
       " ('requir', 3),\n",
       " ('thu', 3),\n",
       " ('ad', 3),\n",
       " ('random', 3),\n",
       " ('tether', 3),\n",
       " ('strong', 3),\n",
       " ('usag', 3),\n",
       " ('airplan', 3),\n",
       " ('applic', 3),\n",
       " ('properli', 3),\n",
       " ('multipl', 3),\n",
       " ('done', 3),\n",
       " ('access', 3),\n",
       " ('poor', 3),\n",
       " ('answer', 3),\n",
       " ('os', 3),\n",
       " ('cricket', 3),\n",
       " ('mostli', 3),\n",
       " ('imposs', 3),\n",
       " ('unless', 3),\n",
       " ('link', 3),\n",
       " ('suck', 3),\n",
       " ('mom', 3),\n",
       " ('icon', 3),\n",
       " ('plastic', 3),\n",
       " ('evo', 3),\n",
       " ('final', 3),\n",
       " ('preorder', 3),\n",
       " ('face', 3),\n",
       " ('selfi', 3),\n",
       " ('brows', 3),\n",
       " ('beat', 3),\n",
       " ('slower', 3),\n",
       " ('thank', 3),\n",
       " ('pattern', 3),\n",
       " ('otherwis', 3),\n",
       " ('readi', 3),\n",
       " ('bug', 3),\n",
       " ('capacit', 3),\n",
       " ('glitch', 3),\n",
       " ('immedi', 3),\n",
       " ('chang', 3),\n",
       " ('factori', 3),\n",
       " ('must', 3),\n",
       " ('okay', 3),\n",
       " ('often', 3),\n",
       " ('buyer', 2),\n",
       " ('unfair', 2),\n",
       " ('honest', 2),\n",
       " ('octa', 2),\n",
       " ('gamer', 2),\n",
       " ('ashphalt', 2),\n",
       " ('grand', 2),\n",
       " ('theft', 2),\n",
       " ('ill', 2),\n",
       " ('heavenli', 2),\n",
       " ('bliss', 2),\n",
       " ('up', 2),\n",
       " ('lost', 2),\n",
       " ('refund', 2),\n",
       " ('ebay', 2),\n",
       " ('told', 2),\n",
       " ('eachoth', 2),\n",
       " ('wayyyyy', 2),\n",
       " ('obviou', 2),\n",
       " ('gsmpro', 2),\n",
       " ('pre', 2),\n",
       " ('lie', 2),\n",
       " ('desk', 2),\n",
       " ('bulg', 2),\n",
       " ('rock', 2),\n",
       " ('flat', 2),\n",
       " ('prefer', 2),\n",
       " ('rocker', 2),\n",
       " ('solv', 2),\n",
       " ('firm', 2),\n",
       " ('incur', 2),\n",
       " ('augment', 2),\n",
       " ('suction', 2),\n",
       " ('cup', 2),\n",
       " ('prop', 2),\n",
       " ('bonu', 2),\n",
       " ('kind', 2),\n",
       " ('chest', 2),\n",
       " ('cement', 2),\n",
       " ('walkway', 2),\n",
       " ('state', 2),\n",
       " ('gift', 2),\n",
       " ('earn', 2),\n",
       " ('bing', 2),\n",
       " ('intent', 2),\n",
       " ('admir', 2),\n",
       " ('model', 2),\n",
       " ('announc', 2),\n",
       " ('sudden', 2),\n",
       " ('r', 2),\n",
       " ('taken', 2),\n",
       " ('unfortun', 2),\n",
       " ('friendli', 2),\n",
       " ('polit', 2),\n",
       " ('resolv', 2),\n",
       " ('mail', 2),\n",
       " ('arriv', 2),\n",
       " ('add', 2),\n",
       " ('signatur', 2),\n",
       " ('center', 2),\n",
       " ('scratch', 2),\n",
       " ('bank', 2),\n",
       " ('slightli', 2),\n",
       " ('futur', 2),\n",
       " ('favorit', 2),\n",
       " ('internet', 2),\n",
       " ('leav', 2),\n",
       " ('mobil', 2),\n",
       " ('extrem', 2),\n",
       " ('mbp', 2),\n",
       " ('mid', 2),\n",
       " ('absolut', 2),\n",
       " ('man', 2),\n",
       " ('pad', 2),\n",
       " ('slight', 2),\n",
       " ('paus', 2),\n",
       " ('ringer', 2),\n",
       " ('alright', 2),\n",
       " ('although', 2),\n",
       " ('stronger', 2),\n",
       " ('natur', 2),\n",
       " ('instead', 2),\n",
       " ('otter', 2),\n",
       " ('three', 2),\n",
       " ('fell', 2),\n",
       " ('water', 2),\n",
       " ('repeat', 2),\n",
       " ('activ', 2),\n",
       " ('summer', 2),\n",
       " ('beauti', 2),\n",
       " ('opinion', 2),\n",
       " ('par', 2),\n",
       " ('awkward', 2),\n",
       " ('happili', 2),\n",
       " ('trust', 2),\n",
       " ('switch', 2),\n",
       " ('concret', 2),\n",
       " ('massiv', 2),\n",
       " ('chose', 2),\n",
       " ('solid', 2),\n",
       " ('regist', 2),\n",
       " ('sunday', 2),\n",
       " ('excit', 2),\n",
       " ('prob', 2),\n",
       " ('plu', 2),\n",
       " ('greatest', 2),\n",
       " ('breaker', 2),\n",
       " ('red', 2),\n",
       " ('pick', 2),\n",
       " ('unrespons', 2),\n",
       " ('mess', 2),\n",
       " ('troubl', 2),\n",
       " ('rear', 2),\n",
       " ('feet', 2),\n",
       " ('terribl', 2),\n",
       " ('idea', 2),\n",
       " ('gave', 2),\n",
       " ('air', 2),\n",
       " ('bubbl', 2),\n",
       " ('choic', 2),\n",
       " ('five', 2),\n",
       " ('stay', 2),\n",
       " ('mo', 2),\n",
       " ('tap', 2),\n",
       " ('freak', 2),\n",
       " ('bloat', 2),\n",
       " ('doesnt', 2),\n",
       " ('mind', 2),\n",
       " ('preset', 2),\n",
       " ('lowest', 2),\n",
       " ('matter', 2),\n",
       " ('reconnect', 2),\n",
       " ('crash', 2),\n",
       " ('travel', 2),\n",
       " ('flimsi', 2),\n",
       " ('vivo', 2),\n",
       " ('blurri', 2),\n",
       " ('coupl', 2),\n",
       " ('min', 2),\n",
       " ('morn', 2),\n",
       " ('oh', 2),\n",
       " ('frustrat', 2),\n",
       " ('ui', 2),\n",
       " ('kept', 2),\n",
       " ('websit', 2),\n",
       " ('daughter', 2),\n",
       " ('usabl', 2),\n",
       " ('destroy', 2),\n",
       " ('trueli', 1),\n",
       " ('prize', 1),\n",
       " ('recomend', 1),\n",
       " ('die', 1),\n",
       " ('oct', 1),\n",
       " ('servicedu', 1),\n",
       " ('technic', 1),\n",
       " ('turnaround', 1),\n",
       " ('unaccept', 1),\n",
       " ('age', 1),\n",
       " ('plant', 1),\n",
       " ('anywher', 1),\n",
       " ('lwp', 1),\n",
       " ('monitor', 1),\n",
       " ('brown', 1),\n",
       " ('concern', 1),\n",
       " ('gophon', 1),\n",
       " ('rural', 1),\n",
       " ('verizon', 1),\n",
       " ('prepaid', 1),\n",
       " ('qualm', 1),\n",
       " ('drag', 1),\n",
       " ('jump', 1),\n",
       " ('item', 1),\n",
       " ('deliber', 1),\n",
       " ('defiantli', 1),\n",
       " ('certainli', 1),\n",
       " ('perk', 1),\n",
       " ('backlight', 1),\n",
       " ('night', 1),\n",
       " ('mega', 1),\n",
       " ('suppli', 1),\n",
       " ('quicker', 1),\n",
       " ('dash', 1),\n",
       " ('catch', 1),\n",
       " ('odd', 1),\n",
       " ('octacor', 1),\n",
       " ('perhap', 1),\n",
       " ('dialer', 1),\n",
       " ('chin', 1),\n",
       " ('variou', 1),\n",
       " ('august', 1),\n",
       " ('avil', 1),\n",
       " ('imho', 1),\n",
       " ('voicemail', 1),\n",
       " ('templ', 1),\n",
       " ('bejewel', 1),\n",
       " ('rain', 1),\n",
       " ('drain', 1),\n",
       " ('standbi', 1),\n",
       " ('record', 1),\n",
       " ('yellow', 1),\n",
       " ('protectoroth', 1),\n",
       " ('zenui', 1),\n",
       " ('adaptor', 1),\n",
       " ('flush', 1),\n",
       " ('hole', 1),\n",
       " ('pull', 1),\n",
       " ('clot', 1),\n",
       " ('tougher', 1),\n",
       " ('histori', 1),\n",
       " ('incurs', 1),\n",
       " ('broke', 1),\n",
       " ('plane', 1),\n",
       " ('rug', 1),\n",
       " ('overh', 1),\n",
       " ('sun', 1),\n",
       " ('croak', 1),\n",
       " ('abus', 1),\n",
       " ('mistreat', 1),\n",
       " ('harshest', 1),\n",
       " ('condit', 1),\n",
       " ('snow', 1),\n",
       " ('food', 1),\n",
       " ('prep', 1),\n",
       " ('dirt', 1),\n",
       " ('swelter', 1),\n",
       " ('heat', 1),\n",
       " ('sub', 1),\n",
       " ('zero', 1),\n",
       " ('desir', 1),\n",
       " ('depart', 1),\n",
       " ('scuf', 1),\n",
       " ('fraction', 1),\n",
       " ('percent', 1),\n",
       " ('control', 1),\n",
       " ('eas', 1),\n",
       " ('skeptic', 1),\n",
       " ('recent', 1),\n",
       " ('preform', 1),\n",
       " ('wildest', 1),\n",
       " ('dream', 1),\n",
       " ('snappi', 1),\n",
       " ('complement', 1),\n",
       " ('foot', 1),\n",
       " ('facil', 1),\n",
       " ('placement', 1),\n",
       " ('steel', 1),\n",
       " ('structur', 1),\n",
       " ('hint', 1),\n",
       " ('exactli', 1),\n",
       " ('fallen', 1),\n",
       " ('deaf', 1),\n",
       " ('past', 1),\n",
       " ('seepag', 1),\n",
       " ('manysimpl', 1),\n",
       " ('allwork', 1),\n",
       " ('hopedlollipop', 1),\n",
       " ('phonea', 1),\n",
       " ('site', 1),\n",
       " ('blusaid', 1),\n",
       " ('iseen', 1),\n",
       " ('connectedto', 1),\n",
       " ('poorli', 1),\n",
       " ('lit', 1),\n",
       " ('removedand', 1),\n",
       " ('noteven', 1),\n",
       " ('phoneand', 1),\n",
       " ('wouldsay', 1),\n",
       " ('weakest', 1),\n",
       " ('gotth', 1),\n",
       " ('pass', 1),\n",
       " ('fair', 1),\n",
       " ('warn', 1),\n",
       " ('agre', 1),\n",
       " ('feedback', 1),\n",
       " ('opportun', 1),\n",
       " ('meet', 1),\n",
       " ('motorola', 1),\n",
       " ('gladli', 1),\n",
       " ('blü', 1),\n",
       " ('trade', 1),\n",
       " ('leak', 1),\n",
       " ('accident', 1),\n",
       " ('pretend', 1),\n",
       " ('gripe', 1),\n",
       " ('wont', 1),\n",
       " ('hq', 1),\n",
       " ('florida', 1),\n",
       " ('unskil', 1),\n",
       " ('excus', 1),\n",
       " ('repeatedli', 1),\n",
       " ('throw', 1),\n",
       " ('uniform', 1),\n",
       " ('stuck', 1),\n",
       " ('sad', 1),\n",
       " ('captur', 1),\n",
       " ('action', 1),\n",
       " ('tough', 1),\n",
       " ('incap', 1),\n",
       " ('htc', 1),\n",
       " ('till', 1),\n",
       " ('june', 1),\n",
       " ('bunch', 1),\n",
       " ('book', 1),\n",
       " ('project', 1),\n",
       " ('necessari', 1),\n",
       " ('nake', 1),\n",
       " ('fight', 1),\n",
       " ('sand', 1),\n",
       " ('granul', 1),\n",
       " ('hurt', 1),\n",
       " ('awhil', 1),\n",
       " ('step', 1),\n",
       " ('hous', 1),\n",
       " ('unbeat', 1),\n",
       " ('req', 1),\n",
       " ('lumia', 1),\n",
       " ('stink', 1),\n",
       " ('magazin', 1),\n",
       " ('flag', 1),\n",
       " ('contract', 1),\n",
       " ('unlimit', 1),\n",
       " ('camper', 1),\n",
       " ('diff', 1),\n",
       " ('page', 1),\n",
       " ('style', 1),\n",
       " ('haze', 1),\n",
       " ('letter', 1),\n",
       " ('slowli', 1),\n",
       " ('shill', 1),\n",
       " ('kingroot', 1),\n",
       " ('disabl', 1),\n",
       " ('delet', 1),\n",
       " ('champ', 1),\n",
       " ('mobileuncletool', 1),\n",
       " ('increas', 1),\n",
       " ('damn', 1),\n",
       " ('quiet', 1),\n",
       " ('spontan', 1),\n",
       " ('combust', 1),\n",
       " ('primetim', 1),\n",
       " ('imo', 1),\n",
       " ('sync', 1),\n",
       " ('own', 1),\n",
       " ('expand', 1),\n",
       " ('dislik', 1),\n",
       " ('oopsi', 1),\n",
       " ('babi', 1),\n",
       " ('stole', 1),\n",
       " ('lessen', 1),\n",
       " ('win', 1),\n",
       " ('mint', 1),\n",
       " ('inbox', 1),\n",
       " ('revert', 1),\n",
       " ('autofocu', 1),\n",
       " ('blur', 1),\n",
       " ('produc', 1),\n",
       " ('lip', 1),\n",
       " ('magnet', 1),\n",
       " ('peel', 1),\n",
       " ('sporad', 1),\n",
       " ('cetera', 1),\n",
       " ('comput', 1),\n",
       " ('regard', 1),\n",
       " ('gut', 1),\n",
       " ('ten', 1),\n",
       " ('whenev', 1),\n",
       " ('sleep', 1),\n",
       " ('kick', 1),\n",
       " ('appar', 1),\n",
       " ('black', 1),\n",
       " ('accomplish', 1),\n",
       " ('adequ', 1),\n",
       " ('built', 1),\n",
       " ('quad', 1),\n",
       " ('inexpens', 1),\n",
       " ('gradabl', 1),\n",
       " ('dad', 1),\n",
       " ('brother', 1),\n",
       " ('deliveri', 1),\n",
       " ('lightli', 1),\n",
       " ('cap', 1),\n",
       " ('paper', 1),\n",
       " ('ass', 1),\n",
       " ('wan', 1),\n",
       " ('inform', 1),\n",
       " ('reproduc', 1),\n",
       " ('instagram', 1),\n",
       " ('snapchat', 1),\n",
       " ('overnight', 1),\n",
       " ('recognis', 1),\n",
       " ('corrector', 1),\n",
       " ('sister', 1),\n",
       " ('celebr', 1),\n",
       " ('son', 1),\n",
       " ('bday', 1),\n",
       " ('isnt', 1),\n",
       " ('teenag', 1),\n",
       " ('adult', 1),\n",
       " ('social', 1),\n",
       " ('medial', 1),\n",
       " ('corner', 1),\n",
       " ('squeez', 1),\n",
       " ('balanc', 1),\n",
       " ('index', 1),\n",
       " ('accompani', 1),\n",
       " ('your', 1),\n",
       " ('filter', 1),\n",
       " ('kingo', 1),\n",
       " ('boy', 1),\n",
       " ('woo', 1),\n",
       " ('grab', 1),\n",
       " ('aaaaaand', 1),\n",
       " ('ton', 1),\n",
       " ('picki', 1),\n",
       " ('bring', 1),\n",
       " ('voltag', 1),\n",
       " ('buffer', 1),\n",
       " ('unwatch', 1),\n",
       " ('contribut', 1),\n",
       " ('eta', 1),\n",
       " ('unknown', 1),\n",
       " ('bump', 1),\n",
       " ('introductori', 1),\n",
       " ('draw', 1),\n",
       " ('primari', 1),\n",
       " ('didnt', 1),\n",
       " ('primarili', 1),\n",
       " ('child', 1),\n",
       " ('yeah', 1),\n",
       " ('room', 1),\n",
       " ('badli', 1),\n",
       " ('foremost', 1),\n",
       " ('horrif', 1),\n",
       " ('street', 1),\n",
       " ('highway', 1),\n",
       " ('discern', 1),\n",
       " ('credit', 1),\n",
       " ('durabl', 1),\n",
       " ('smash', 1),\n",
       " ('consol', 1),\n",
       " ('bend', 1),\n",
       " ('frantic', 1),\n",
       " ('command', 1),\n",
       " ('upon', 1),\n",
       " ('posit', 1),\n",
       " ('lite', 1),\n",
       " ('assumpt', 1),\n",
       " ('marshmallow', 1),\n",
       " ('clueless', 1),\n",
       " ('ponder', 1),\n",
       " ('quadcor', 1),\n",
       " ('duocor', 1),\n",
       " ('optim', 1),\n",
       " ('discourag', 1),\n",
       " ('beach', 1),\n",
       " ('buggi', 1),\n",
       " ('rebuild', 1),\n",
       " ('insan', 1),\n",
       " ('contributor', 1),\n",
       " ('chat', 1),\n",
       " ('hr', 1),\n",
       " ('qualityat', 1),\n",
       " ('wiggl', 1),\n",
       " ('wear', 1),\n",
       " ('importantli', 1),\n",
       " ('derp', 1),\n",
       " ('ground', 1),\n",
       " ('cheaper', 1),\n",
       " ('yield', 1),\n",
       " ('optimum', 1)]"
      ]
     },
     "execution_count": 244,
     "metadata": {},
     "output_type": "execute_result"
    }
   ],
   "source": [
    "terms_group_more[0]"
   ]
  },
  {
   "cell_type": "code",
   "execution_count": 246,
   "metadata": {},
   "outputs": [
    {
     "data": {
      "application/vnd.plotly.v1+json": {
       "config": {
        "plotlyServerURL": "https://plot.ly"
       },
       "data": [
        {
         "hovertemplate": "<b>%{hovertext}</b><br><br>x=%{x}<br>y=%{y}<br>z=%{z}<br>cluster=%{marker.color}<extra></extra>",
         "hovertext": [
          [
           "screen",
           "devic",
           "use",
           "get",
           "like"
          ],
          [
           "screen",
           "devic",
           "use",
           "get",
           "like"
          ],
          [
           "phone",
           "blu",
           "good",
           "price",
           "app"
          ],
          [
           "mani",
           "releas",
           "said",
           "juli",
           "month"
          ],
          [
           "screen",
           "devic",
           "use",
           "get",
           "like"
          ]
         ],
         "legendgroup": "",
         "marker": {
          "color": [
           0,
           0,
           1,
           2,
           0
          ],
          "coloraxis": "coloraxis",
          "symbol": "circle"
         },
         "mode": "markers",
         "name": "",
         "scene": "scene",
         "showlegend": false,
         "type": "scatter3d",
         "x": [
          1,
          2,
          3,
          4,
          5
         ],
         "y": [
          2,
          3,
          5,
          4,
          1
         ],
         "z": [
          3,
          1,
          2,
          4,
          5
         ]
        }
       ],
       "layout": {
        "coloraxis": {
         "colorbar": {
          "title": {
           "text": "cluster"
          }
         },
         "colorscale": [
          [
           0,
           "#0d0887"
          ],
          [
           0.1111111111111111,
           "#46039f"
          ],
          [
           0.2222222222222222,
           "#7201a8"
          ],
          [
           0.3333333333333333,
           "#9c179e"
          ],
          [
           0.4444444444444444,
           "#bd3786"
          ],
          [
           0.5555555555555556,
           "#d8576b"
          ],
          [
           0.6666666666666666,
           "#ed7953"
          ],
          [
           0.7777777777777778,
           "#fb9f3a"
          ],
          [
           0.8888888888888888,
           "#fdca26"
          ],
          [
           1,
           "#f0f921"
          ]
         ]
        },
        "legend": {
         "tracegroupgap": 0
        },
        "margin": {
         "t": 60
        },
        "scene": {
         "domain": {
          "x": [
           0,
           1
          ],
          "y": [
           0,
           1
          ]
         },
         "xaxis": {
          "title": {
           "text": "X-axis"
          }
         },
         "yaxis": {
          "title": {
           "text": "Y-axis"
          }
         },
         "zaxis": {
          "title": {
           "text": "Z-axis"
          }
         }
        },
        "template": {
         "data": {
          "bar": [
           {
            "error_x": {
             "color": "#2a3f5f"
            },
            "error_y": {
             "color": "#2a3f5f"
            },
            "marker": {
             "line": {
              "color": "#E5ECF6",
              "width": 0.5
             },
             "pattern": {
              "fillmode": "overlay",
              "size": 10,
              "solidity": 0.2
             }
            },
            "type": "bar"
           }
          ],
          "barpolar": [
           {
            "marker": {
             "line": {
              "color": "#E5ECF6",
              "width": 0.5
             },
             "pattern": {
              "fillmode": "overlay",
              "size": 10,
              "solidity": 0.2
             }
            },
            "type": "barpolar"
           }
          ],
          "carpet": [
           {
            "aaxis": {
             "endlinecolor": "#2a3f5f",
             "gridcolor": "white",
             "linecolor": "white",
             "minorgridcolor": "white",
             "startlinecolor": "#2a3f5f"
            },
            "baxis": {
             "endlinecolor": "#2a3f5f",
             "gridcolor": "white",
             "linecolor": "white",
             "minorgridcolor": "white",
             "startlinecolor": "#2a3f5f"
            },
            "type": "carpet"
           }
          ],
          "choropleth": [
           {
            "colorbar": {
             "outlinewidth": 0,
             "ticks": ""
            },
            "type": "choropleth"
           }
          ],
          "contour": [
           {
            "colorbar": {
             "outlinewidth": 0,
             "ticks": ""
            },
            "colorscale": [
             [
              0,
              "#0d0887"
             ],
             [
              0.1111111111111111,
              "#46039f"
             ],
             [
              0.2222222222222222,
              "#7201a8"
             ],
             [
              0.3333333333333333,
              "#9c179e"
             ],
             [
              0.4444444444444444,
              "#bd3786"
             ],
             [
              0.5555555555555556,
              "#d8576b"
             ],
             [
              0.6666666666666666,
              "#ed7953"
             ],
             [
              0.7777777777777778,
              "#fb9f3a"
             ],
             [
              0.8888888888888888,
              "#fdca26"
             ],
             [
              1,
              "#f0f921"
             ]
            ],
            "type": "contour"
           }
          ],
          "contourcarpet": [
           {
            "colorbar": {
             "outlinewidth": 0,
             "ticks": ""
            },
            "type": "contourcarpet"
           }
          ],
          "heatmap": [
           {
            "colorbar": {
             "outlinewidth": 0,
             "ticks": ""
            },
            "colorscale": [
             [
              0,
              "#0d0887"
             ],
             [
              0.1111111111111111,
              "#46039f"
             ],
             [
              0.2222222222222222,
              "#7201a8"
             ],
             [
              0.3333333333333333,
              "#9c179e"
             ],
             [
              0.4444444444444444,
              "#bd3786"
             ],
             [
              0.5555555555555556,
              "#d8576b"
             ],
             [
              0.6666666666666666,
              "#ed7953"
             ],
             [
              0.7777777777777778,
              "#fb9f3a"
             ],
             [
              0.8888888888888888,
              "#fdca26"
             ],
             [
              1,
              "#f0f921"
             ]
            ],
            "type": "heatmap"
           }
          ],
          "heatmapgl": [
           {
            "colorbar": {
             "outlinewidth": 0,
             "ticks": ""
            },
            "colorscale": [
             [
              0,
              "#0d0887"
             ],
             [
              0.1111111111111111,
              "#46039f"
             ],
             [
              0.2222222222222222,
              "#7201a8"
             ],
             [
              0.3333333333333333,
              "#9c179e"
             ],
             [
              0.4444444444444444,
              "#bd3786"
             ],
             [
              0.5555555555555556,
              "#d8576b"
             ],
             [
              0.6666666666666666,
              "#ed7953"
             ],
             [
              0.7777777777777778,
              "#fb9f3a"
             ],
             [
              0.8888888888888888,
              "#fdca26"
             ],
             [
              1,
              "#f0f921"
             ]
            ],
            "type": "heatmapgl"
           }
          ],
          "histogram": [
           {
            "marker": {
             "pattern": {
              "fillmode": "overlay",
              "size": 10,
              "solidity": 0.2
             }
            },
            "type": "histogram"
           }
          ],
          "histogram2d": [
           {
            "colorbar": {
             "outlinewidth": 0,
             "ticks": ""
            },
            "colorscale": [
             [
              0,
              "#0d0887"
             ],
             [
              0.1111111111111111,
              "#46039f"
             ],
             [
              0.2222222222222222,
              "#7201a8"
             ],
             [
              0.3333333333333333,
              "#9c179e"
             ],
             [
              0.4444444444444444,
              "#bd3786"
             ],
             [
              0.5555555555555556,
              "#d8576b"
             ],
             [
              0.6666666666666666,
              "#ed7953"
             ],
             [
              0.7777777777777778,
              "#fb9f3a"
             ],
             [
              0.8888888888888888,
              "#fdca26"
             ],
             [
              1,
              "#f0f921"
             ]
            ],
            "type": "histogram2d"
           }
          ],
          "histogram2dcontour": [
           {
            "colorbar": {
             "outlinewidth": 0,
             "ticks": ""
            },
            "colorscale": [
             [
              0,
              "#0d0887"
             ],
             [
              0.1111111111111111,
              "#46039f"
             ],
             [
              0.2222222222222222,
              "#7201a8"
             ],
             [
              0.3333333333333333,
              "#9c179e"
             ],
             [
              0.4444444444444444,
              "#bd3786"
             ],
             [
              0.5555555555555556,
              "#d8576b"
             ],
             [
              0.6666666666666666,
              "#ed7953"
             ],
             [
              0.7777777777777778,
              "#fb9f3a"
             ],
             [
              0.8888888888888888,
              "#fdca26"
             ],
             [
              1,
              "#f0f921"
             ]
            ],
            "type": "histogram2dcontour"
           }
          ],
          "mesh3d": [
           {
            "colorbar": {
             "outlinewidth": 0,
             "ticks": ""
            },
            "type": "mesh3d"
           }
          ],
          "parcoords": [
           {
            "line": {
             "colorbar": {
              "outlinewidth": 0,
              "ticks": ""
             }
            },
            "type": "parcoords"
           }
          ],
          "pie": [
           {
            "automargin": true,
            "type": "pie"
           }
          ],
          "scatter": [
           {
            "fillpattern": {
             "fillmode": "overlay",
             "size": 10,
             "solidity": 0.2
            },
            "type": "scatter"
           }
          ],
          "scatter3d": [
           {
            "line": {
             "colorbar": {
              "outlinewidth": 0,
              "ticks": ""
             }
            },
            "marker": {
             "colorbar": {
              "outlinewidth": 0,
              "ticks": ""
             }
            },
            "type": "scatter3d"
           }
          ],
          "scattercarpet": [
           {
            "marker": {
             "colorbar": {
              "outlinewidth": 0,
              "ticks": ""
             }
            },
            "type": "scattercarpet"
           }
          ],
          "scattergeo": [
           {
            "marker": {
             "colorbar": {
              "outlinewidth": 0,
              "ticks": ""
             }
            },
            "type": "scattergeo"
           }
          ],
          "scattergl": [
           {
            "marker": {
             "colorbar": {
              "outlinewidth": 0,
              "ticks": ""
             }
            },
            "type": "scattergl"
           }
          ],
          "scattermapbox": [
           {
            "marker": {
             "colorbar": {
              "outlinewidth": 0,
              "ticks": ""
             }
            },
            "type": "scattermapbox"
           }
          ],
          "scatterpolar": [
           {
            "marker": {
             "colorbar": {
              "outlinewidth": 0,
              "ticks": ""
             }
            },
            "type": "scatterpolar"
           }
          ],
          "scatterpolargl": [
           {
            "marker": {
             "colorbar": {
              "outlinewidth": 0,
              "ticks": ""
             }
            },
            "type": "scatterpolargl"
           }
          ],
          "scatterternary": [
           {
            "marker": {
             "colorbar": {
              "outlinewidth": 0,
              "ticks": ""
             }
            },
            "type": "scatterternary"
           }
          ],
          "surface": [
           {
            "colorbar": {
             "outlinewidth": 0,
             "ticks": ""
            },
            "colorscale": [
             [
              0,
              "#0d0887"
             ],
             [
              0.1111111111111111,
              "#46039f"
             ],
             [
              0.2222222222222222,
              "#7201a8"
             ],
             [
              0.3333333333333333,
              "#9c179e"
             ],
             [
              0.4444444444444444,
              "#bd3786"
             ],
             [
              0.5555555555555556,
              "#d8576b"
             ],
             [
              0.6666666666666666,
              "#ed7953"
             ],
             [
              0.7777777777777778,
              "#fb9f3a"
             ],
             [
              0.8888888888888888,
              "#fdca26"
             ],
             [
              1,
              "#f0f921"
             ]
            ],
            "type": "surface"
           }
          ],
          "table": [
           {
            "cells": {
             "fill": {
              "color": "#EBF0F8"
             },
             "line": {
              "color": "white"
             }
            },
            "header": {
             "fill": {
              "color": "#C8D4E3"
             },
             "line": {
              "color": "white"
             }
            },
            "type": "table"
           }
          ]
         },
         "layout": {
          "annotationdefaults": {
           "arrowcolor": "#2a3f5f",
           "arrowhead": 0,
           "arrowwidth": 1
          },
          "autotypenumbers": "strict",
          "coloraxis": {
           "colorbar": {
            "outlinewidth": 0,
            "ticks": ""
           }
          },
          "colorscale": {
           "diverging": [
            [
             0,
             "#8e0152"
            ],
            [
             0.1,
             "#c51b7d"
            ],
            [
             0.2,
             "#de77ae"
            ],
            [
             0.3,
             "#f1b6da"
            ],
            [
             0.4,
             "#fde0ef"
            ],
            [
             0.5,
             "#f7f7f7"
            ],
            [
             0.6,
             "#e6f5d0"
            ],
            [
             0.7,
             "#b8e186"
            ],
            [
             0.8,
             "#7fbc41"
            ],
            [
             0.9,
             "#4d9221"
            ],
            [
             1,
             "#276419"
            ]
           ],
           "sequential": [
            [
             0,
             "#0d0887"
            ],
            [
             0.1111111111111111,
             "#46039f"
            ],
            [
             0.2222222222222222,
             "#7201a8"
            ],
            [
             0.3333333333333333,
             "#9c179e"
            ],
            [
             0.4444444444444444,
             "#bd3786"
            ],
            [
             0.5555555555555556,
             "#d8576b"
            ],
            [
             0.6666666666666666,
             "#ed7953"
            ],
            [
             0.7777777777777778,
             "#fb9f3a"
            ],
            [
             0.8888888888888888,
             "#fdca26"
            ],
            [
             1,
             "#f0f921"
            ]
           ],
           "sequentialminus": [
            [
             0,
             "#0d0887"
            ],
            [
             0.1111111111111111,
             "#46039f"
            ],
            [
             0.2222222222222222,
             "#7201a8"
            ],
            [
             0.3333333333333333,
             "#9c179e"
            ],
            [
             0.4444444444444444,
             "#bd3786"
            ],
            [
             0.5555555555555556,
             "#d8576b"
            ],
            [
             0.6666666666666666,
             "#ed7953"
            ],
            [
             0.7777777777777778,
             "#fb9f3a"
            ],
            [
             0.8888888888888888,
             "#fdca26"
            ],
            [
             1,
             "#f0f921"
            ]
           ]
          },
          "colorway": [
           "#636efa",
           "#EF553B",
           "#00cc96",
           "#ab63fa",
           "#FFA15A",
           "#19d3f3",
           "#FF6692",
           "#B6E880",
           "#FF97FF",
           "#FECB52"
          ],
          "font": {
           "color": "#2a3f5f"
          },
          "geo": {
           "bgcolor": "white",
           "lakecolor": "white",
           "landcolor": "#E5ECF6",
           "showlakes": true,
           "showland": true,
           "subunitcolor": "white"
          },
          "hoverlabel": {
           "align": "left"
          },
          "hovermode": "closest",
          "mapbox": {
           "style": "light"
          },
          "paper_bgcolor": "white",
          "plot_bgcolor": "#E5ECF6",
          "polar": {
           "angularaxis": {
            "gridcolor": "white",
            "linecolor": "white",
            "ticks": ""
           },
           "bgcolor": "#E5ECF6",
           "radialaxis": {
            "gridcolor": "white",
            "linecolor": "white",
            "ticks": ""
           }
          },
          "scene": {
           "xaxis": {
            "backgroundcolor": "#E5ECF6",
            "gridcolor": "white",
            "gridwidth": 2,
            "linecolor": "white",
            "showbackground": true,
            "ticks": "",
            "zerolinecolor": "white"
           },
           "yaxis": {
            "backgroundcolor": "#E5ECF6",
            "gridcolor": "white",
            "gridwidth": 2,
            "linecolor": "white",
            "showbackground": true,
            "ticks": "",
            "zerolinecolor": "white"
           },
           "zaxis": {
            "backgroundcolor": "#E5ECF6",
            "gridcolor": "white",
            "gridwidth": 2,
            "linecolor": "white",
            "showbackground": true,
            "ticks": "",
            "zerolinecolor": "white"
           }
          },
          "shapedefaults": {
           "line": {
            "color": "#2a3f5f"
           }
          },
          "ternary": {
           "aaxis": {
            "gridcolor": "white",
            "linecolor": "white",
            "ticks": ""
           },
           "baxis": {
            "gridcolor": "white",
            "linecolor": "white",
            "ticks": ""
           },
           "bgcolor": "#E5ECF6",
           "caxis": {
            "gridcolor": "white",
            "linecolor": "white",
            "ticks": ""
           }
          },
          "title": {
           "x": 0.05
          },
          "xaxis": {
           "automargin": true,
           "gridcolor": "white",
           "linecolor": "white",
           "ticks": "",
           "title": {
            "standoff": 15
           },
           "zerolinecolor": "white",
           "zerolinewidth": 2
          },
          "yaxis": {
           "automargin": true,
           "gridcolor": "white",
           "linecolor": "white",
           "ticks": "",
           "title": {
            "standoff": 15
           },
           "zerolinecolor": "white",
           "zerolinewidth": 2
          }
         }
        },
        "title": {
         "text": "Interactive 3D Scatter Plot with Hover Text"
        }
       }
      }
     },
     "metadata": {},
     "output_type": "display_data"
    }
   ],
   "source": [
    "import plotly.express as px\n",
    "\n",
    "# Generate some example data\n",
    "data = {\n",
    "    'x': [1, 2, 3, 4, 5],\n",
    "    'y': [2, 3, 5, 4, 1],\n",
    "    'z': [3, 1, 2, 4, 5],\n",
    "    'cluster': [0,0,1,2,0]\n",
    "}\n",
    "labels = []\n",
    "for i in range(5):\n",
    "    labels.append([terms_group_more[data['cluster'][i]][j][0] for j in range(5)])\n",
    "\n",
    "data['labels'] = labels\n",
    "\n",
    "# Create a 3D scatter plot with hover text\n",
    "fig = px.scatter_3d(data, x='x', y='y', z='z', hover_name='labels', color='cluster')\n",
    "\n",
    "# Set layout options for better readability\n",
    "fig.update_layout(\n",
    "    title=\"Interactive 3D Scatter Plot with Hover Text\",\n",
    "    scene=dict(\n",
    "        xaxis_title=\"X-axis\",\n",
    "        yaxis_title=\"Y-axis\",\n",
    "        zaxis_title=\"Z-axis\"\n",
    "    )\n",
    ")\n",
    "\n",
    "# Show the plot\n",
    "fig.show()"
   ]
  }
 ],
 "metadata": {
  "kernelspec": {
   "display_name": "Python 3 (ipykernel)",
   "language": "python",
   "name": "python3"
  },
  "language_info": {
   "codemirror_mode": {
    "name": "ipython",
    "version": 3
   },
   "file_extension": ".py",
   "mimetype": "text/x-python",
   "name": "python",
   "nbconvert_exporter": "python",
   "pygments_lexer": "ipython3",
   "version": "3.11.6"
  }
 },
 "nbformat": 4,
 "nbformat_minor": 2
}
